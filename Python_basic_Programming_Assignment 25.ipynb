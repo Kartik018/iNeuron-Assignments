{
 "cells": [
  {
   "cell_type": "markdown",
   "id": "e6bb0b06",
   "metadata": {},
   "source": [
    "**Question1**\n",
    "\n",
    "Create a function that takes three integer arguments (a, b, c) and returns the amount of integers which are of equal value.\n",
    "\n",
    "**Examples**\n",
    "\n",
    "equal(3, 4, 3) ➞ 2\n",
    "\n",
    "equal(1, 1, 1) ➞ 3\n",
    "\n",
    "equal(3, 4, 1) ➞ 0 \n",
    "\n",
    "**Notes**\n",
    "\n",
    "Your function must return 0, 2 or 3.\n"
   ]
  },
  {
   "cell_type": "code",
   "execution_count": 17,
   "id": "725c6d42",
   "metadata": {},
   "outputs": [],
   "source": [
    "def equal(a,b,c):\n",
    "    lis=[]\n",
    "    lis.extend([a,b,c])\n",
    "    tot=[]\n",
    "    for n in lis:\n",
    "        t=lis.count(n)\n",
    "        tot.append(t)\n",
    "    maxi=max(tot)\n",
    "    return maxi"
   ]
  },
  {
   "cell_type": "code",
   "execution_count": 20,
   "id": "fdd1a5af",
   "metadata": {},
   "outputs": [
    {
     "name": "stdout",
     "output_type": "stream",
     "text": [
      "2\n",
      "3\n"
     ]
    }
   ],
   "source": [
    "print(equal(3, 4, 3))\n",
    "print(equal(1, 1, 1) )"
   ]
  },
  {
   "cell_type": "markdown",
   "id": "b37f4dc0",
   "metadata": {},
   "source": [
    "**Question2**\n",
    "\n",
    "Write a function that converts a dictionary into a list of keys-values tuples.\n",
    "\n",
    "**Examples**\n",
    "\n",
    "dict_to_list({\n",
    "  \"D\": 1,\n",
    "  \"B\": 2,\n",
    "  \"C\": 3\n",
    "}) ➞ [(\"B\", 2), (\"C\", 3), (\"D\", 1)]\n",
    "\n",
    "dict_to_list({\n",
    "  \"likes\": 2,\n",
    "  \"dislikes\": 3,\n",
    "  \"followers\": 10\n",
    "}) ➞ [(\"dislikes\", 3), (\"followers\", 10), (\"likes\", 2)]\n",
    "\n",
    "**Notes**\n",
    "\n",
    "Return the elements in the list in alphabetical order.\n"
   ]
  },
  {
   "cell_type": "code",
   "execution_count": 36,
   "id": "8ae8d9b6",
   "metadata": {},
   "outputs": [],
   "source": [
    "def dict_to_list(dic):\n",
    "    lst=[]\n",
    "    for item in dic.items():\n",
    "        lst.append((item)) \n",
    "        lst.sort()\n",
    "    return lst    "
   ]
  },
  {
   "cell_type": "code",
   "execution_count": 38,
   "id": "ddf5fce3",
   "metadata": {},
   "outputs": [
    {
     "name": "stdout",
     "output_type": "stream",
     "text": [
      "[('B', 2), ('C', 3), ('D', 1)]\n",
      "[('dislikes', 3), ('followers', 10), ('likes', 2)]\n"
     ]
    }
   ],
   "source": [
    "print(dict_to_list({ \"D\": 1, \"B\": 2, \"C\": 3 }))\n",
    "print(dict_to_list({ \"likes\": 2, \"dislikes\": 3, \"followers\": 10 }) )"
   ]
  },
  {
   "cell_type": "markdown",
   "id": "a0053297",
   "metadata": {},
   "source": [
    "**Question3**\n",
    "\n",
    "Write a function that creates a dictionary with each (key, value) pair being the (lower case, upper case) versions of a letter, respectively.\n",
    "\n",
    "**Examples**\n",
    "\n",
    "mapping([\"p\", \"s\"]) ➞ { \"p\": \"P\", \"s\": \"S\" }\n",
    "\n",
    "mapping([\"a\", \"b\", \"c\"]) ➞ { \"a\": \"A\", \"b\": \"B\", \"c\": \"C\" }\n",
    "\n",
    "mapping([\"a\", \"v\", \"y\", \"z\"]) ➞ { \"a\": \"A\", \"v\": \"V\", \"y\": \"Y\", \"z\": \"Z\" }\n",
    "\n",
    "**Notes**\n",
    "\n",
    "All of the letters in the input list will always be lowercase.\n"
   ]
  },
  {
   "cell_type": "code",
   "execution_count": 39,
   "id": "98c281bb",
   "metadata": {},
   "outputs": [],
   "source": [
    "def mapping(lst):\n",
    "    dct={}\n",
    "    for ele in lst:\n",
    "        dct[ele]=ele.upper()\n",
    "    return dct   "
   ]
  },
  {
   "cell_type": "code",
   "execution_count": 42,
   "id": "63d70168",
   "metadata": {},
   "outputs": [
    {
     "name": "stdout",
     "output_type": "stream",
     "text": [
      "{'p': 'P', 's': 'S'}\n",
      "{'a': 'A', 'b': 'B', 'c': 'C'}\n",
      "{'a': 'A', 'v': 'V', 'y': 'Y', 'z': 'Z'}\n"
     ]
    }
   ],
   "source": [
    "print(mapping([\"p\", \"s\"]))\n",
    "print(mapping([\"a\", \"b\", \"c\"]))\n",
    "print(mapping([\"a\", \"v\", \"y\", \"z\"]))"
   ]
  },
  {
   "cell_type": "markdown",
   "id": "a3d9ca1d",
   "metadata": {},
   "source": [
    "**Question4**\n",
    "\n",
    "Write a function, that replaces all vowels in a string with a specified vowel.\n",
    "\n",
    "Examples\n",
    "\n",
    "vow_replace(\"apples and bananas\", \"u\") ➞ \"upplus und bununus\"\n",
    "\n",
    "vow_replace(\"cheese casserole\", \"o\") ➞ \"chooso cossorolo\"\n",
    "\n",
    "vow_replace(\"stuffed jalapeno poppers\", \"e\") ➞ \"steffed jelepene peppers\"\n",
    "\n",
    "**Notes**\n",
    "\n",
    "All words will be lowercase. Y is not considered a vowel.\n"
   ]
  },
  {
   "cell_type": "code",
   "execution_count": 56,
   "id": "28b72fb7",
   "metadata": {},
   "outputs": [],
   "source": [
    "def vow_replace(string,r):\n",
    "    vowels='aeiou'\n",
    "    for char in string:\n",
    "            if char in vowels:\n",
    "                string=string.replace(char,r)\n",
    "    return string            "
   ]
  },
  {
   "cell_type": "code",
   "execution_count": 59,
   "id": "e65b8633",
   "metadata": {},
   "outputs": [
    {
     "name": "stdout",
     "output_type": "stream",
     "text": [
      "upplus und bununus\n",
      "chooso cossorolo\n",
      "steffed jelepene peppers\n"
     ]
    }
   ],
   "source": [
    "print(vow_replace(\"apples and bananas\", \"u\") )\n",
    "print(vow_replace(\"cheese casserole\", \"o\") )\n",
    "print(vow_replace(\"stuffed jalapeno poppers\", \"e\") )"
   ]
  },
  {
   "cell_type": "markdown",
   "id": "1c519f04",
   "metadata": {},
   "source": [
    "**Question5**\n",
    "\n",
    "Create a function that takes a string as input and capitalizes a letter if its ASCII code is even and returns its lower case version if its ASCII code is odd.\n",
    "\n",
    "**Examples**\n",
    "\n",
    "ascii_capitalize(\"to be or not to be!\") ➞ \"To Be oR NoT To Be!\"\n",
    "\n",
    "ascii_capitalize(\"THE LITTLE MERMAID\") ➞ \"THe LiTTLe meRmaiD\"\n",
    "\n",
    "ascii_capitalize(\"Oh what a beautiful morning.\") ➞ \"oH wHaT a BeauTiFuL moRNiNg.\"\n"
   ]
  },
  {
   "cell_type": "code",
   "execution_count": 65,
   "id": "dac5edea",
   "metadata": {},
   "outputs": [],
   "source": [
    "def ascii_capitalize(string):\n",
    "    for i in range(len(string)):\n",
    "        asc=ord(string[i])\n",
    "        if asc%2==0:\n",
    "            if string[i].islower():\n",
    "                string=string.replace(string[i],string[i].upper())\n",
    "            else:\n",
    "                pass\n",
    "        else:\n",
    "            if string[i].isupper():\n",
    "                string=string.replace(string[i],string[i].lower())\n",
    "    return string            \n",
    "        "
   ]
  },
  {
   "cell_type": "code",
   "execution_count": 67,
   "id": "6eb2c640",
   "metadata": {},
   "outputs": [
    {
     "name": "stdout",
     "output_type": "stream",
     "text": [
      "oH wHaT a BeauTiFuL moRNiNg.\n",
      "To Be oR NoT To Be!\n",
      "THe LiTTLe meRmaiD\n"
     ]
    }
   ],
   "source": [
    "print(ascii_capitalize(\"Oh what a beautiful morning.\"))\n",
    "print(ascii_capitalize(\"to be or not to be!\") )\n",
    "print(ascii_capitalize(\"THE LITTLE MERMAID\"))"
   ]
  }
 ],
 "metadata": {
  "kernelspec": {
   "display_name": "Python 3 (ipykernel)",
   "language": "python",
   "name": "python3"
  },
  "language_info": {
   "codemirror_mode": {
    "name": "ipython",
    "version": 3
   },
   "file_extension": ".py",
   "mimetype": "text/x-python",
   "name": "python",
   "nbconvert_exporter": "python",
   "pygments_lexer": "ipython3",
   "version": "3.9.7"
  }
 },
 "nbformat": 4,
 "nbformat_minor": 5
}
