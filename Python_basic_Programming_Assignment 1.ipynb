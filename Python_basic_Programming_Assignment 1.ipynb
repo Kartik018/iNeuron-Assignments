{
 "cells": [
  {
   "cell_type": "markdown",
   "id": "8b36a18f",
   "metadata": {},
   "source": [
    "#### 1.\tWrite a Python program to print \"Hello Python\"?"
   ]
  },
  {
   "cell_type": "code",
   "execution_count": 1,
   "id": "70ec3f6e",
   "metadata": {},
   "outputs": [
    {
     "name": "stdout",
     "output_type": "stream",
     "text": [
      "Hello Python\n"
     ]
    }
   ],
   "source": [
    "print(\"Hello Python\")"
   ]
  },
  {
   "cell_type": "markdown",
   "id": "f7b972c3",
   "metadata": {},
   "source": [
    "#### 2.\tWrite a Python program to do arithmetical operations addition and division.?"
   ]
  },
  {
   "cell_type": "code",
   "execution_count": 2,
   "id": "709fa46c",
   "metadata": {},
   "outputs": [
    {
     "name": "stdout",
     "output_type": "stream",
     "text": [
      "15\n",
      "0.875\n"
     ]
    }
   ],
   "source": [
    "a=7\n",
    "b=8\n",
    "c=a+b\n",
    "c2=a/b\n",
    "print(c)\n",
    "print(c2)"
   ]
  },
  {
   "cell_type": "markdown",
   "id": "e61ef05c",
   "metadata": {},
   "source": [
    "#### 3.\tWrite a Python program to find the area of a triangle?"
   ]
  },
  {
   "cell_type": "code",
   "execution_count": 3,
   "id": "6afcf09b",
   "metadata": {},
   "outputs": [
    {
     "name": "stdout",
     "output_type": "stream",
     "text": [
      "Area of trinagle is:1926.742847398168\n"
     ]
    }
   ],
   "source": [
    "side1=15\n",
    "side2=34\n",
    "side3=12\n",
    "s=side1+side2+side3\n",
    "area=(s*(s-side1)*(s-side2)*(s-side3))**0.5\n",
    "print('Area of trinagle is:{}'.format(area))"
   ]
  },
  {
   "cell_type": "markdown",
   "id": "dc672d3a",
   "metadata": {},
   "source": [
    "#### 4.\tWrite a Python program to swap two variables?"
   ]
  },
  {
   "cell_type": "code",
   "execution_count": 4,
   "id": "9ebcd808",
   "metadata": {},
   "outputs": [
    {
     "name": "stdout",
     "output_type": "stream",
     "text": [
      "n1 is: 25\n",
      "n2 is: 15\n"
     ]
    }
   ],
   "source": [
    "n1=15\n",
    "n2=25\n",
    "temp=n1\n",
    "n1=n2\n",
    "n2=temp\n",
    "print('n1 is: {}\\nn2 is: {}'.format(n1,n2))"
   ]
  },
  {
   "cell_type": "markdown",
   "id": "28590b4c",
   "metadata": {},
   "source": [
    "#### 5.\tWrite a Python program to generate a random number?"
   ]
  },
  {
   "cell_type": "code",
   "execution_count": 5,
   "id": "ae9adac0",
   "metadata": {},
   "outputs": [
    {
     "name": "stdout",
     "output_type": "stream",
     "text": [
      "\n"
     ]
    }
   ],
   "source": [
    "import random\n",
    "n=random.randint(0,10)\n",
    "print()"
   ]
  }
 ],
 "metadata": {
  "kernelspec": {
   "display_name": "Python 3 (ipykernel)",
   "language": "python",
   "name": "python3"
  },
  "language_info": {
   "codemirror_mode": {
    "name": "ipython",
    "version": 3
   },
   "file_extension": ".py",
   "mimetype": "text/x-python",
   "name": "python",
   "nbconvert_exporter": "python",
   "pygments_lexer": "ipython3",
   "version": "3.9.7"
  }
 },
 "nbformat": 4,
 "nbformat_minor": 5
}
