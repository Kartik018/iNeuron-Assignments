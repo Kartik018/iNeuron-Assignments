{
 "cells": [
  {
   "cell_type": "markdown",
   "id": "89881eff",
   "metadata": {},
   "source": [
    "#### 1.\tWrite a Python Program to find sum of array?"
   ]
  },
  {
   "cell_type": "code",
   "execution_count": 2,
   "id": "5137b4bd",
   "metadata": {},
   "outputs": [
    {
     "name": "stdout",
     "output_type": "stream",
     "text": [
      "Sum of arary is : 47.8\n"
     ]
    }
   ],
   "source": [
    "def sum_of_array(array):\n",
    "    sum=0\n",
    "    for num in array:\n",
    "        sum=sum+num\n",
    "    return sum    \n",
    "array=[2,4,6.8,4,11,20]\n",
    "print(\"Sum of arary is : {}\".format(sum_of_array(array)))"
   ]
  },
  {
   "cell_type": "markdown",
   "id": "12a9c532",
   "metadata": {},
   "source": [
    "#### 2.\tWrite a Python Program to find largest element in an array?"
   ]
  },
  {
   "cell_type": "code",
   "execution_count": 3,
   "id": "4e2cd453",
   "metadata": {},
   "outputs": [
    {
     "name": "stdout",
     "output_type": "stream",
     "text": [
      "Largest element in array is: 456\n"
     ]
    }
   ],
   "source": [
    "array=[3,5,22,55,7,456,54]\n",
    "largest=max(array)\n",
    "print(\"Largest element in array is: {}\".format(largest))"
   ]
  },
  {
   "cell_type": "markdown",
   "id": "f6d7ae51",
   "metadata": {},
   "source": [
    "#### 3.\tWrite a Python Program for array rotation?"
   ]
  },
  {
   "cell_type": "code",
   "execution_count": 7,
   "id": "ec42d2da",
   "metadata": {},
   "outputs": [
    {
     "name": "stdout",
     "output_type": "stream",
     "text": [
      "Rotated array: [78, 5456, 434, 65, 5, 34, 323]\n"
     ]
    }
   ],
   "source": [
    "array=[323,34,5,65,434,5456,78]\n",
    "rotated_array=array[::-1]\n",
    "print(\"Rotated array: {}\".format(rotated_array))"
   ]
  },
  {
   "cell_type": "markdown",
   "id": "0b850207",
   "metadata": {},
   "source": [
    "#### 4.\tWrite a Python Program to Split the array and add the first part to the end?"
   ]
  },
  {
   "cell_type": "code",
   "execution_count": 12,
   "id": "f142813d",
   "metadata": {},
   "outputs": [
    {
     "name": "stdout",
     "output_type": "stream",
     "text": [
      "[45, 345, 657, 544, 23, 345, 656]\n"
     ]
    }
   ],
   "source": [
    "array=[23,345,656,45,345,657,544]\n",
    "length=len(array)\n",
    "mid=length//2\n",
    "left_array=array[0:mid]\n",
    "right_array=array[mid:]\n",
    "final_array=[]\n",
    "print(right_array+left_array)"
   ]
  },
  {
   "cell_type": "markdown",
   "id": "ebde8e0f",
   "metadata": {},
   "source": [
    "#### 5.\tWrite a Python Program to check if given array is Monotonic?"
   ]
  },
  {
   "cell_type": "code",
   "execution_count": 13,
   "id": "51702b32",
   "metadata": {},
   "outputs": [
    {
     "name": "stdout",
     "output_type": "stream",
     "text": [
      "True\n",
      "False\n",
      "True\n",
      "True\n"
     ]
    }
   ],
   "source": [
    "def ismonotone(a):\n",
    "    n=len(a) \n",
    "    if n==1:\n",
    "        return True\n",
    "    else:\n",
    "        if all(a[i]>=a[i+1] for i in range(0,n-1) or a[i]<=a[i+1] for i in range(0,n-1)):\n",
    "            return True\n",
    "        else:\n",
    "            return False\n",
    "\n",
    "A = [6, 5, 4, 2]\n",
    "print(ismonotone(A))\n",
    "b = [6, 2, 4, 2]\n",
    "print(ismonotone(b))\n",
    "c=[4,3,2]\n",
    "print(ismonotone(c))\n",
    "d=[1]\n",
    "print(ismonotone(d))"
   ]
  }
 ],
 "metadata": {
  "kernelspec": {
   "display_name": "Python 3 (ipykernel)",
   "language": "python",
   "name": "python3"
  },
  "language_info": {
   "codemirror_mode": {
    "name": "ipython",
    "version": 3
   },
   "file_extension": ".py",
   "mimetype": "text/x-python",
   "name": "python",
   "nbconvert_exporter": "python",
   "pygments_lexer": "ipython3",
   "version": "3.9.7"
  }
 },
 "nbformat": 4,
 "nbformat_minor": 5
}
