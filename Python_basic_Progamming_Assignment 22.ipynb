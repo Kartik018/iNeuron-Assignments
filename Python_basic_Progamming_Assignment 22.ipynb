{
 "cells": [
  {
   "cell_type": "markdown",
   "id": "8fec49d9",
   "metadata": {},
   "source": [
    "**Question1**\n",
    "\n",
    "Create a function that takes three parameters where:\n",
    "\n",
    "•\tx is the start of the range (inclusive).\n",
    "\n",
    "•\ty is the end of the range (inclusive).\n",
    "\n",
    "•\tn is the divisor to be checked against.\n",
    "Return an ordered list with numbers in the range that are divisible by the third parameter n. \n",
    "\n",
    "Return an empty list if there are no numbers that are divisible by n.\n",
    "\n",
    "**Examples**\n",
    "\n",
    "list_operation(1, 10, 3) ➞ [3, 6, 9]\n",
    "\n",
    "list_operation(7, 9, 2) ➞ [8]\n",
    "\n",
    "list_operation(15, 20, 7) ➞ []\n"
   ]
  },
  {
   "cell_type": "code",
   "execution_count": 4,
   "id": "14f8f5b4",
   "metadata": {},
   "outputs": [],
   "source": [
    "def list_operation(x,y,n):\n",
    "    lst=[]\n",
    "    for i in range(x,y+1):\n",
    "        if i%n==0:\n",
    "            lst.append(i)  \n",
    "    return lst        "
   ]
  },
  {
   "cell_type": "code",
   "execution_count": 5,
   "id": "d72bcab3",
   "metadata": {},
   "outputs": [
    {
     "name": "stdout",
     "output_type": "stream",
     "text": [
      "[3, 6, 9]\n",
      "[8]\n"
     ]
    }
   ],
   "source": [
    "print(list_operation(1, 10, 3))\n",
    "print(list_operation(7, 9, 2))"
   ]
  },
  {
   "cell_type": "markdown",
   "id": "ebb0e6b7",
   "metadata": {},
   "source": [
    "**Question2**\n",
    "\n",
    "A group of friends have decided to start a secret society. The name will be the first letter of each of their names, sorted in alphabetical order.\n",
    "Create a function that takes in a list of names and returns the name of the secret society.\n",
    "\n",
    "**Examples**\n",
    "\n",
    "society_name([\"Adam\", \"Sarah\", \"Malcolm\"]) ➞ \"AMS\"\n",
    "\n",
    "society_name([\"Harry\", \"Newt\", \"Luna\", \"Cho\"]) ➞ \"CHLN\"\n",
    "\n",
    "society_name([\"Phoebe\", \"Chandler\", \"Rachel\", \"Ross\", \"Monica\", \"Joey\"])\n",
    "\n"
   ]
  },
  {
   "cell_type": "code",
   "execution_count": 6,
   "id": "79a8a9bd",
   "metadata": {},
   "outputs": [],
   "source": [
    "def society_name(lst):\n",
    "    string=[]\n",
    "    for word in lst:\n",
    "        lett=word[0]\n",
    "        string.append(lett)\n",
    "    string.sort()\n",
    "    return ''.join(string)"
   ]
  },
  {
   "cell_type": "code",
   "execution_count": 9,
   "id": "8728fb8d",
   "metadata": {},
   "outputs": [
    {
     "name": "stdout",
     "output_type": "stream",
     "text": [
      "AMS\n",
      "CHLN\n",
      "CJMPRR\n"
     ]
    }
   ],
   "source": [
    "print(society_name([\"Adam\", \"Sarah\", \"Malcolm\"]))\n",
    "print(society_name([\"Harry\", \"Newt\", \"Luna\", \"Cho\"]))\n",
    "print(society_name([\"Phoebe\", \"Chandler\", \"Rachel\", \"Ross\", \"Monica\", \"Joey\"]))"
   ]
  },
  {
   "cell_type": "markdown",
   "id": "625dd32a",
   "metadata": {},
   "source": [
    "**Question4**\n",
    "\n",
    "An isogram is a word that has no duplicate letters. Create a function that takes a string and returns either True or False depending on whether or not it's an \"isogram\".\n",
    "\n",
    "**Examples**\n",
    "\n",
    "is_isogram(\"Algorism\") ➞ True\n",
    "\n",
    "is_isogram(\"PasSword\") ➞ False\n",
    "#Not case sensitive.\n",
    "\n",
    "\n",
    "is_isogram(\"Consecutive\") ➞ False\n",
    "\n",
    "**Notes**\n",
    "\n",
    "•\tIgnore letter case (should not be case sensitive).\n",
    "\n",
    "•\tAll test cases contain valid one word strings.\n"
   ]
  },
  {
   "cell_type": "code",
   "execution_count": 22,
   "id": "25fe72ed",
   "metadata": {},
   "outputs": [],
   "source": [
    "def is_isogram(string):\n",
    "    string=string.lower()\n",
    "    st=set(string)\n",
    "    if len(st)==len(string):\n",
    "        return True\n",
    "    else:\n",
    "        return False"
   ]
  },
  {
   "cell_type": "code",
   "execution_count": 24,
   "id": "26f6d869",
   "metadata": {},
   "outputs": [
    {
     "name": "stdout",
     "output_type": "stream",
     "text": [
      "True\n",
      "False\n",
      "False\n"
     ]
    }
   ],
   "source": [
    "print(is_isogram(\"Algorism\") )\n",
    "print(is_isogram(\"PasSword\"))\n",
    "print(is_isogram(\"Consecutive\"))"
   ]
  },
  {
   "cell_type": "markdown",
   "id": "9337f179",
   "metadata": {},
   "source": [
    "**Question5**\n",
    "\n",
    "Create a function that takes a string and returns True or False, depending on whether the characters are in order or not.\n",
    "\n",
    "**Examples**\n",
    "\n",
    "is_in_order(\"abc\") ➞ True\n",
    "\n",
    "is_in_order(\"edabit\") ➞ False\n",
    "\n",
    "is_in_order(\"123\") ➞ True\n",
    "\n",
    "is_in_order(\"xyzz\") ➞ True\n",
    "\n",
    "**Notes**\n",
    "\n",
    "You don't have to handle empty strings.\n"
   ]
  },
  {
   "cell_type": "code",
   "execution_count": 91,
   "id": "2fd63d26",
   "metadata": {},
   "outputs": [],
   "source": [
    "def is_in_order(string):\n",
    "    lst_string=list(string)\n",
    "    string=list(string)\n",
    "    string.sort()\n",
    "    flag=True\n",
    "    for i in range(len(string)):\n",
    "        if lst_string[i]!=string[i]:\n",
    "            flag=False\n",
    "            break\n",
    "        else:\n",
    "            flag=True\n",
    "    return flag    \n",
    "            "
   ]
  },
  {
   "cell_type": "code",
   "execution_count": 94,
   "id": "9e13af4f",
   "metadata": {},
   "outputs": [
    {
     "name": "stdout",
     "output_type": "stream",
     "text": [
      "True\n",
      "False\n",
      "True\n",
      "True\n"
     ]
    }
   ],
   "source": [
    "print(is_in_order(\"abc\"))\n",
    "print(is_in_order(\"edabit\") )\n",
    "print(is_in_order(\"123\"))\n",
    "print(is_in_order(\"xyzz\"))"
   ]
  },
  {
   "cell_type": "code",
   "execution_count": null,
   "id": "e12d77c1",
   "metadata": {},
   "outputs": [],
   "source": []
  }
 ],
 "metadata": {
  "kernelspec": {
   "display_name": "Python 3 (ipykernel)",
   "language": "python",
   "name": "python3"
  },
  "language_info": {
   "codemirror_mode": {
    "name": "ipython",
    "version": 3
   },
   "file_extension": ".py",
   "mimetype": "text/x-python",
   "name": "python",
   "nbconvert_exporter": "python",
   "pygments_lexer": "ipython3",
   "version": "3.9.7"
  }
 },
 "nbformat": 4,
 "nbformat_minor": 5
}
