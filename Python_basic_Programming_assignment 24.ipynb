{
 "cells": [
  {
   "cell_type": "markdown",
   "id": "5f95de24",
   "metadata": {},
   "source": [
    "**Question2**\n",
    "\n",
    "Create a function that takes a list of numbers and return the number that's unique.\n",
    "\n",
    "**Examples**\n",
    "\n",
    "unique([3, 3, 3, 7, 3, 3]) ➞ 7\n",
    "\n",
    "unique([0, 0, 0.77, 0, 0]) ➞ 0.77\n",
    "\n",
    "unique([0, 1, 1, 1, 1, 1, 1, 1]) ➞ 0\n",
    "\n",
    "**Notes**\n",
    "\n",
    "Test cases will always have exactly one unique number while all others are the same.\n"
   ]
  },
  {
   "cell_type": "code",
   "execution_count": 1,
   "id": "45762384",
   "metadata": {},
   "outputs": [],
   "source": [
    "def unique(lis):\n",
    "    lis_set=set(lis)\n",
    "    for ele in lis_set:\n",
    "        count=lis.count(ele)\n",
    "        if count==1:\n",
    "            return ele\n",
    "        else:\n",
    "            pass"
   ]
  },
  {
   "cell_type": "code",
   "execution_count": 4,
   "id": "7fe45851",
   "metadata": {},
   "outputs": [
    {
     "name": "stdout",
     "output_type": "stream",
     "text": [
      "0\n",
      "7\n",
      "0.77\n"
     ]
    }
   ],
   "source": [
    "print(unique([0, 1, 1, 1, 1, 1, 1, 1]) )\n",
    "print(unique([3, 3, 3, 7, 3, 3]))\n",
    "print(unique([0, 0, 0.77, 0, 0]) )"
   ]
  },
  {
   "cell_type": "markdown",
   "id": "a9e40bc6",
   "metadata": {},
   "source": [
    "**Question3**\n",
    "\n",
    "Your task is to create a Circle constructor that creates a circle with a radius provided by an argument. The circles constructed must have two getters getArea() (PIr^2) and getPerimeter() (2PI*r) which give both respective areas and perimeter (circumference).\n",
    "\n",
    "For help with this class, I have provided you with a Rectangle constructor which you can use as a base example.\n",
    "\n",
    "**Examples**\n",
    "\n",
    "circy = Circle(11)\n",
    "circy.getArea()\n",
    "\n",
    "#Should return 380.132711084365\n",
    "\n",
    "circy = Circle(4.44)\n",
    "circy.getPerimeter()\n",
    "\n",
    "#Should return 27.897342763877365\n",
    "\n",
    "**Notes**\n",
    "\n",
    "Round results up to the nearest integer.\n"
   ]
  },
  {
   "cell_type": "code",
   "execution_count": 17,
   "id": "5a95c6fc",
   "metadata": {},
   "outputs": [],
   "source": [
    "class Circle:\n",
    "    pi=3.14159\n",
    "    def __init__(self,r):\n",
    "        self.radius=r\n",
    "        \n",
    "    def getArea(self):\n",
    "        area=self.pi*(self.radius**2)\n",
    "        print(area)\n",
    "    def getPerimeter(self):\n",
    "        perimeter=2*self.pi*self.radius\n",
    "        print(perimeter)"
   ]
  },
  {
   "cell_type": "code",
   "execution_count": 20,
   "id": "c234056c",
   "metadata": {},
   "outputs": [
    {
     "name": "stdout",
     "output_type": "stream",
     "text": [
      "380.13239\n"
     ]
    }
   ],
   "source": [
    "circy=Circle(11)\n",
    "circy.getArea()"
   ]
  },
  {
   "cell_type": "code",
   "execution_count": 21,
   "id": "a3b08cf2",
   "metadata": {},
   "outputs": [
    {
     "name": "stdout",
     "output_type": "stream",
     "text": [
      "27.897319200000002\n"
     ]
    }
   ],
   "source": [
    "circy = Circle(4.44) \n",
    "circy.getPerimeter()"
   ]
  },
  {
   "cell_type": "markdown",
   "id": "7d80c95c",
   "metadata": {},
   "source": [
    "**Question4**\n",
    "\n",
    "Create a function that takes a list of strings and return a list, sorted from shortest to longest.\n",
    "\n",
    "**Examples**\n",
    "\n",
    "- sort_by_length([\"Google\", \"Apple\", \"Microsoft\"])\n",
    "➞ [\"Apple\", \"Google\", \"Microsoft\"]\n",
    "\n",
    "- sort_by_length([\"Leonardo\", \"Michelangelo\", \"Raphael\", \"Donatello\"])\n",
    "➞ [\"Raphael\", \"Leonardo\", \"Donatello\", \"Michelangelo\"]\n",
    "\n",
    "- sort_by_length([\"Turing\", \"Einstein\", \"Jung\"])\n",
    "➞ [\"Jung\", \"Turing\", \"Einstein\"]\n",
    "\n",
    "**Notes**\n",
    "\n",
    "All test cases contain lists with strings of different lengths, so you won't have to deal with multiple strings of the same length.\n"
   ]
  },
  {
   "cell_type": "code",
   "execution_count": 26,
   "id": "1e78f72a",
   "metadata": {},
   "outputs": [],
   "source": [
    "def sort_by_length(lis):\n",
    "    lis2=sorted(lis,key=len)\n",
    "    return lis2"
   ]
  },
  {
   "cell_type": "code",
   "execution_count": 28,
   "id": "1801d141",
   "metadata": {},
   "outputs": [
    {
     "name": "stdout",
     "output_type": "stream",
     "text": [
      "['Apple', 'Google', 'Microsoft']\n",
      "['Raphael', 'Leonardo', 'Donatello', 'Michelangelo']\n"
     ]
    }
   ],
   "source": [
    "print(sort_by_length([\"Google\", \"Apple\", \"Microsoft\"]))\n",
    "print(sort_by_length([\"Leonardo\", \"Michelangelo\", \"Raphael\", \"Donatello\"]))"
   ]
  },
  {
   "cell_type": "markdown",
   "id": "ac0450b6",
   "metadata": {},
   "source": [
    "**Question5**\n",
    "\n",
    "Create a function that validates whether three given integers form a Pythagorean triplet. The sum of the squares of the two smallest integers must equal the square of the largest number to be validated.\n",
    "\n",
    "**Examples**\n",
    "\n",
    "is_triplet(3, 4, 5) ➞ True\n",
    "#3² + 4² = 25\n",
    "#5² = 25\n",
    "\n",
    "is_triplet(13, 5, 12) ➞ True\n",
    "#5² + 12² = 169\n",
    "#13² = 169\n",
    "\n",
    "is_triplet(1, 2, 3) ➞ False\n",
    "#1² + 2² = 5\n",
    "#3² = 9\n",
    "\n",
    "**Notes**\n",
    "\n",
    "Numbers may not be given in a sorted order.\n"
   ]
  },
  {
   "cell_type": "code",
   "execution_count": 33,
   "id": "27ff42fc",
   "metadata": {},
   "outputs": [],
   "source": [
    "def is_triplet(a,b,c):\n",
    "    first=a**2+b**2\n",
    "    second=c**2\n",
    "    \n",
    "    first1=b**2+c**2\n",
    "    second1=a**2\n",
    "    \n",
    "    first2=a**2+c**2\n",
    "    second2=b**2\n",
    "    \n",
    "    if first==second:\n",
    "        return True\n",
    "    elif first1==second1:\n",
    "        return True\n",
    "    elif first2==second2:\n",
    "        return True\n",
    "    else:\n",
    "        return False"
   ]
  },
  {
   "cell_type": "code",
   "execution_count": 34,
   "id": "886f53a7",
   "metadata": {},
   "outputs": [
    {
     "name": "stdout",
     "output_type": "stream",
     "text": [
      "True\n",
      "True\n",
      "False\n"
     ]
    }
   ],
   "source": [
    "print(is_triplet(3, 4, 5))\n",
    "print(is_triplet(13, 5, 12))\n",
    "print(is_triplet(1, 2, 3))"
   ]
  }
 ],
 "metadata": {
  "kernelspec": {
   "display_name": "Python 3 (ipykernel)",
   "language": "python",
   "name": "python3"
  },
  "language_info": {
   "codemirror_mode": {
    "name": "ipython",
    "version": 3
   },
   "file_extension": ".py",
   "mimetype": "text/x-python",
   "name": "python",
   "nbconvert_exporter": "python",
   "pygments_lexer": "ipython3",
   "version": "3.9.7"
  }
 },
 "nbformat": 4,
 "nbformat_minor": 5
}
