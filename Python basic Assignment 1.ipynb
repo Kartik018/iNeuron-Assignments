{
 "cells": [
  {
   "cell_type": "markdown",
   "id": "5b061f7c",
   "metadata": {},
   "source": [
    "#### 1. In the below elements which of them are values or an expression? eg:- values can be integer                  or string and expressions will be mathematical operators."
   ]
  },
  {
   "cell_type": "markdown",
   "id": "af9fb2b0",
   "metadata": {},
   "source": [
    "Values:- 'hello',-87.8,6\n",
    "Expressions:- -,*,/,+"
   ]
  },
  {
   "cell_type": "markdown",
   "id": "e5c501fb",
   "metadata": {},
   "source": [
    "#### 2. What is the difference between string and variable?"
   ]
  },
  {
   "cell_type": "markdown",
   "id": "997f87fa",
   "metadata": {},
   "source": [
    "String can be a word or set of words. Variable is the symbolic representation of data types like int, str,float etc."
   ]
  },
  {
   "cell_type": "markdown",
   "id": "b71b9aff",
   "metadata": {},
   "source": [
    "#### 3. Describe three different data types."
   ]
  },
  {
   "cell_type": "markdown",
   "id": "8288028e",
   "metadata": {},
   "source": [
    "Integer(int):- It stores integer.\n",
    "Float(float):- It stores decimal values or floating point numbers."
   ]
  },
  {
   "cell_type": "markdown",
   "id": "3f299731",
   "metadata": {},
   "source": [
    "#### 4. What is an expression made up of? What do all expressions do?"
   ]
  },
  {
   "cell_type": "markdown",
   "id": "cda976f6",
   "metadata": {},
   "source": [
    "Expressions are made up of variables, operators, and method invocations.\n",
    "Expression combines values, operators and always evaluate down to a single value."
   ]
  },
  {
   "cell_type": "markdown",
   "id": "8e75fd7b",
   "metadata": {},
   "source": [
    "#### 5. After running the following code, what does the variable bacon contain?\n",
    "#### bacon = 22\n",
    "#### bacon + 1\n"
   ]
  },
  {
   "cell_type": "markdown",
   "id": "1740b2b0",
   "metadata": {},
   "source": [
    "After running the code bacon contains 23"
   ]
  },
  {
   "cell_type": "markdown",
   "id": "7f93ffbb",
   "metadata": {},
   "source": [
    "#### 6.What should the values of the following two terms be?\n",
    "#### 'spam' + 'spamspam'\n",
    "#### 'spam' * 3\n"
   ]
  },
  {
   "cell_type": "markdown",
   "id": "46222eb1",
   "metadata": {},
   "source": [
    "'spam'+'spamspam'='spamspamspam'\n",
    "'spam'*3='spamspamspam'"
   ]
  },
  {
   "cell_type": "markdown",
   "id": "4407a262",
   "metadata": {},
   "source": [
    "#### 7.Why is eggs a valid variable name while 100 is invalid?"
   ]
  },
  {
   "cell_type": "markdown",
   "id": "49cd7927",
   "metadata": {},
   "source": [
    "A valid variable name starts with a letter, followed by letters, digits, or underscores.\n",
    "eggs starts with a letter here. So it's valid variable.\n",
    "100 starts with digit. So it's not valid variable.\n"
   ]
  },
  {
   "cell_type": "markdown",
   "id": "350ed590",
   "metadata": {},
   "source": [
    "#### 8. A valid variable name starts with a letter, followed by letters, digits, or underscores ?"
   ]
  },
  {
   "cell_type": "markdown",
   "id": "c701bbd8",
   "metadata": {},
   "source": [
    "Three functions are \n",
    "int()\n",
    "float()\n",
    "str()"
   ]
  },
  {
   "cell_type": "markdown",
   "id": "1214b766",
   "metadata": {},
   "source": [
    "#### 9. Why does this expression cause an error? How can you fix it?\n",
    "#### 'I have eaten ' + 99 + ' burritos.'\n"
   ]
  },
  {
   "cell_type": "markdown",
   "id": "12498b55",
   "metadata": {},
   "source": [
    "We can not concatenate string with integer.\n",
    "By making 99 as string we can fix it.\n",
    "'I have eaten ' + '99' + ' burritos.'"
   ]
  },
  {
   "cell_type": "markdown",
   "id": "8c7194a0",
   "metadata": {},
   "source": [
    "#### 10. This assignment statements, like spam = 10. What is the difference between an expression and a statement?"
   ]
  },
  {
   "cell_type": "markdown",
   "id": "80a968dc",
   "metadata": {},
   "source": [
    "Expression is combination of values and functions.\n",
    "“statement” which is just a standalone unit of execution."
   ]
  }
 ],
 "metadata": {
  "kernelspec": {
   "display_name": "Python 3 (ipykernel)",
   "language": "python",
   "name": "python3"
  },
  "language_info": {
   "codemirror_mode": {
    "name": "ipython",
    "version": 3
   },
   "file_extension": ".py",
   "mimetype": "text/x-python",
   "name": "python",
   "nbconvert_exporter": "python",
   "pygments_lexer": "ipython3",
   "version": "3.9.7"
  }
 },
 "nbformat": 4,
 "nbformat_minor": 5
}
