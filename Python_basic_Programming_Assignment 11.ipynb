{
 "cells": [
  {
   "cell_type": "markdown",
   "id": "610f10a2",
   "metadata": {},
   "source": [
    "#### 1.\tWrite a Python program to find words which are greater than given length k?"
   ]
  },
  {
   "cell_type": "code",
   "execution_count": 7,
   "id": "9febb2aa",
   "metadata": {},
   "outputs": [
    {
     "name": "stdout",
     "output_type": "stream",
     "text": [
      "Python program greater length\n"
     ]
    }
   ],
   "source": [
    "string=\"Write a Python program to find words which are greater than given length k\"\n",
    "k=5\n",
    "final_string=[]\n",
    "string_to_list=string.split()\n",
    "for word in string_to_list:\n",
    "    if len(word)>5:\n",
    "        final_string.append(word)\n",
    "print(*final_string)        "
   ]
  },
  {
   "cell_type": "markdown",
   "id": "03b9d3ce",
   "metadata": {},
   "source": [
    "#### 2.\tWrite a Python program for removing i-th character from a string?"
   ]
  },
  {
   "cell_type": "code",
   "execution_count": 12,
   "id": "8229306b",
   "metadata": {},
   "outputs": [
    {
     "name": "stdout",
     "output_type": "stream",
     "text": [
      "Wrte a Python program for removing i-th character from a string\n"
     ]
    }
   ],
   "source": [
    "string=\"Write a Python program for removing i-th character from a string\"\n",
    "c=2\n",
    "before_i=string[:c]\n",
    "after_i=string[c+1:]\n",
    "final_string=before_i+after_i\n",
    "print(final_string)"
   ]
  },
  {
   "cell_type": "markdown",
   "id": "ced9ba1e",
   "metadata": {},
   "source": [
    "#### 3.\tWrite a Python program to split and join a string?"
   ]
  },
  {
   "cell_type": "code",
   "execution_count": 14,
   "id": "68d0ce9c",
   "metadata": {},
   "outputs": [],
   "source": [
    "string=\" Write a Python program to split and join a string\"\n",
    "split_string=string.split()"
   ]
  },
  {
   "cell_type": "code",
   "execution_count": 15,
   "id": "0c6d32d9",
   "metadata": {},
   "outputs": [
    {
     "data": {
      "text/plain": [
       "['Write',\n",
       " 'a',\n",
       " 'Python',\n",
       " 'program',\n",
       " 'to',\n",
       " 'split',\n",
       " 'and',\n",
       " 'join',\n",
       " 'a',\n",
       " 'string']"
      ]
     },
     "execution_count": 15,
     "metadata": {},
     "output_type": "execute_result"
    }
   ],
   "source": [
    "split_string"
   ]
  },
  {
   "cell_type": "code",
   "execution_count": 16,
   "id": "ac6a6ef2",
   "metadata": {},
   "outputs": [
    {
     "name": "stdout",
     "output_type": "stream",
     "text": [
      "Write-a-Python-program-to-split-and-join-a-string\n"
     ]
    }
   ],
   "source": [
    "final_string='-'.join(split_string)\n",
    "print(final_string)"
   ]
  },
  {
   "cell_type": "markdown",
   "id": "552f3994",
   "metadata": {},
   "source": [
    "#### 4.\tWrite a Python to check if a given string is binary string or not?"
   ]
  },
  {
   "cell_type": "code",
   "execution_count": 23,
   "id": "ae6d4197",
   "metadata": {},
   "outputs": [
    {
     "name": "stdout",
     "output_type": "stream",
     "text": [
      "Enter a string :101010\n",
      "Binary string\n"
     ]
    }
   ],
   "source": [
    "string=input(\"Enter a string :\")\n",
    "string_to_set=set(string)\n",
    "s={'0','1'}\n",
    "if string_to_set == s or string_to_set =={'0'} or string_to_set=={'1'}:\n",
    "    print(\"Binary string\")\n",
    "else:\n",
    "    print(\"Not a binary string\")"
   ]
  },
  {
   "cell_type": "markdown",
   "id": "117178a5",
   "metadata": {},
   "source": [
    "#### 5.\tWrite a Python program to find uncommon words from two Strings?"
   ]
  },
  {
   "cell_type": "code",
   "execution_count": 34,
   "id": "c43ffdf3",
   "metadata": {},
   "outputs": [
    {
     "name": "stdout",
     "output_type": "stream",
     "text": [
      "Uncomman words are: {'program', 'strings', 'not', 'or', 'words', 'if', 'binary', 'two', 'given', 'find', 'is', 'uncommon', 'string', 'from', 'check'}\n"
     ]
    }
   ],
   "source": [
    "string1=\"Write a Python program to find uncommon words from two strings\"\n",
    "string2=\"Write a Python to check if a given string is binary string or not\"\n",
    "set1=set(string1.split())\n",
    "set2=set(string2.split())\n",
    "print(\"Uncomman words are: {}\".format(set1.symmetric_difference(set2)))"
   ]
  },
  {
   "cell_type": "markdown",
   "id": "1950f65f",
   "metadata": {},
   "source": [
    "#### 6.\tWrite a Python program to find all duplicate characters in string?"
   ]
  },
  {
   "cell_type": "code",
   "execution_count": 41,
   "id": "53e8498b",
   "metadata": {},
   "outputs": [
    {
     "name": "stdout",
     "output_type": "stream",
     "text": [
      "rtaki\n"
     ]
    }
   ],
   "source": [
    "string=\"kartik\"\n",
    "set1=set(string)\n",
    "string2=list(set1)\n",
    "print(''.join(string2))"
   ]
  },
  {
   "cell_type": "code",
   "execution_count": 49,
   "id": "c517a265",
   "metadata": {},
   "outputs": [
    {
     "name": "stdout",
     "output_type": "stream",
     "text": [
      "karti\n"
     ]
    }
   ],
   "source": [
    "string=\"kartik\"\n",
    "lis=list(string)\n",
    "final=[]\n",
    "for c in lis:\n",
    "    if c not in final:\n",
    "        final.append(c)\n",
    "print(''.join(final))    "
   ]
  },
  {
   "cell_type": "markdown",
   "id": "acae96ab",
   "metadata": {},
   "source": [
    "#### 7.\tWrite a Python Program to check if a string contains any special character?"
   ]
  },
  {
   "cell_type": "code",
   "execution_count": 55,
   "id": "2188de23",
   "metadata": {},
   "outputs": [
    {
     "name": "stdout",
     "output_type": "stream",
     "text": [
      "string contains special character\n"
     ]
    }
   ],
   "source": [
    "string=\"string, with! special@! character\"\n",
    "special_chars='[@_!#$%^&*()<>?/\\|}{~:]'\n",
    "flag=False\n",
    "for char in string:\n",
    "    if char in special_chars:\n",
    "        flag=True\n",
    "        break\n",
    "if flag:\n",
    "    print(\"string contains special character\")\n",
    "else:\n",
    "    print(\"string not conatis any special character\")"
   ]
  }
 ],
 "metadata": {
  "kernelspec": {
   "display_name": "Python 3 (ipykernel)",
   "language": "python",
   "name": "python3"
  },
  "language_info": {
   "codemirror_mode": {
    "name": "ipython",
    "version": 3
   },
   "file_extension": ".py",
   "mimetype": "text/x-python",
   "name": "python",
   "nbconvert_exporter": "python",
   "pygments_lexer": "ipython3",
   "version": "3.9.7"
  }
 },
 "nbformat": 4,
 "nbformat_minor": 5
}
