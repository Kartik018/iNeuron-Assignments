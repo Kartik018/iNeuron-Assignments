{
 "cells": [
  {
   "cell_type": "markdown",
   "id": "e76c0789",
   "metadata": {},
   "source": [
    "#### 1.\tWrite a Python program to Extract Unique values dictionary values?"
   ]
  },
  {
   "cell_type": "code",
   "execution_count": 24,
   "id": "06bb3951",
   "metadata": {},
   "outputs": [
    {
     "name": "stdout",
     "output_type": "stream",
     "text": [
      "[1, 2, 3, 4, 5, 6, 7, 8, 10, 12]\n"
     ]
    }
   ],
   "source": [
    "dict1 = {'A' : [1, 3, 5, 4],\n",
    "             'B' : [4, 6, 8, 10],\n",
    "             'C' : [6, 12, 4 ,8],\n",
    "             'D' : [5, 7, 2]}\n",
    "lis2=[]\n",
    "for lis in list(dict1.values()):\n",
    "    lis2.extend(lis)\n",
    "print(list(sorted(set(lis2))))    "
   ]
  },
  {
   "cell_type": "markdown",
   "id": "44d0f1fe",
   "metadata": {},
   "source": [
    "#### 2.\tWrite a Python program to find the sum of all items in a dictionary?"
   ]
  },
  {
   "cell_type": "code",
   "execution_count": 25,
   "id": "15d99611",
   "metadata": {},
   "outputs": [
    {
     "name": "stdout",
     "output_type": "stream",
     "text": [
      "85\n"
     ]
    }
   ],
   "source": [
    "dict1 = {'A' : [1, 3, 5, 4],\n",
    "             'B' : [4, 6, 8, 10],\n",
    "             'C' : [6, 12, 4 ,8],\n",
    "             'D' : [5, 7, 2]}\n",
    "lis2=[]\n",
    "for lis in list(dict1.values()):\n",
    "    lis2.extend(lis)\n",
    "print(sum(lis2))    "
   ]
  },
  {
   "cell_type": "markdown",
   "id": "7a32b6f4",
   "metadata": {},
   "source": [
    "#### 3.\tWrite a Python program to Merging two Dictionaries?"
   ]
  },
  {
   "cell_type": "code",
   "execution_count": 37,
   "id": "19e1413a",
   "metadata": {},
   "outputs": [
    {
     "name": "stdout",
     "output_type": "stream",
     "text": [
      "{'A': [1, 3, 5, 4], 'B': [4, 6, 8, 10], 'C': [6, 12, 4, 8], 'D': [5, 7, 2], 'E': 24, 'F': 67, 'G': 90}\n"
     ]
    }
   ],
   "source": [
    "dict1 = {'A' : [1, 3, 5, 4],\n",
    "             'B' : [4, 6, 8, 10],\n",
    "             'C' : [6, 12, 4 ,8],\n",
    "             'D' : [5, 7, 2]}\n",
    "dict2={\n",
    "    'E':24,\n",
    "    'F':67,\n",
    "    'G':90\n",
    "}\n",
    "dict1.update(dict2)\n",
    "print(dict1)"
   ]
  },
  {
   "cell_type": "markdown",
   "id": "1e3d9daf",
   "metadata": {},
   "source": [
    "#### 4.\tWrite a Python program to convert key-values list to flat dictionary?"
   ]
  },
  {
   "cell_type": "code",
   "execution_count": 39,
   "id": "5ce8f08c",
   "metadata": {},
   "outputs": [
    {
     "name": "stdout",
     "output_type": "stream",
     "text": [
      "The dictionary is : {'month_num': [1, 2, 3, 4, 5, 6], 'name_of_month': ['one', 'two', 'three', 'four', 'five', 'six']}\n",
      "The flattened dictionary is: {1: 'one', 2: 'two', 3: 'three', 4: 'four', 5: 'five', 6: 'six'}\n"
     ]
    }
   ],
   "source": [
    "my_dict = {'month_num' : [1, 2, 3, 4, 5, 6], 'name_of_month' : ['one', 'two', 'three', 'four', 'five', 'six']}\n",
    "print(\"The dictionary is : {}\".format(my_dict))\n",
    "my_result = dict(zip(my_dict['month_num'], my_dict['name_of_month']))\n",
    "print(\"The flattened dictionary is: {}\".format(my_result))"
   ]
  },
  {
   "cell_type": "markdown",
   "id": "e6144726",
   "metadata": {},
   "source": [
    "#### 5.\tWrite a Python program to insertion at the beginning in OrderedDict?"
   ]
  },
  {
   "cell_type": "code",
   "execution_count": 50,
   "id": "452fcc65",
   "metadata": {},
   "outputs": [
    {
     "name": "stdout",
     "output_type": "stream",
     "text": [
      "OrderedDict([('AA', 1010), ('A', 10), ('B', 20), ('C', 30)])\n"
     ]
    }
   ],
   "source": [
    "from collections import OrderedDict\n",
    "dict1={\n",
    "    'A':10,'B':20,'C':30\n",
    "}\n",
    "dict2={\n",
    "    'AA':1010\n",
    "}\n",
    "dic1=OrderedDict(dict1)\n",
    "dic1.update(dict2)\n",
    "dic1.move_to_end('AA',last=False)\n",
    "print(dic1)"
   ]
  },
  {
   "cell_type": "markdown",
   "id": "8bc05fc4",
   "metadata": {},
   "source": [
    "#### 7.\tWrite a Python program to sort Python Dictionaries by Key or Value?"
   ]
  },
  {
   "cell_type": "code",
   "execution_count": 60,
   "id": "b7c60da6",
   "metadata": {},
   "outputs": [
    {
     "name": "stdout",
     "output_type": "stream",
     "text": [
      "Sorting by keys :['A', 'B', 'C', 'D', 'M']\n",
      "Sorting by values :[10, 20, 30, 50, 60]\n"
     ]
    }
   ],
   "source": [
    "dict1={\n",
    "    'A':10,'D':20,'C':30,'M':60,'B':50\n",
    "}\n",
    "print(\"Sorting by keys :{}\".format(sorted(dict1.keys())))\n",
    "print(\"Sorting by values :{}\".format(sorted(dict1.values())))    "
   ]
  }
 ],
 "metadata": {
  "kernelspec": {
   "display_name": "Python 3 (ipykernel)",
   "language": "python",
   "name": "python3"
  },
  "language_info": {
   "codemirror_mode": {
    "name": "ipython",
    "version": 3
   },
   "file_extension": ".py",
   "mimetype": "text/x-python",
   "name": "python",
   "nbconvert_exporter": "python",
   "pygments_lexer": "ipython3",
   "version": "3.9.7"
  }
 },
 "nbformat": 4,
 "nbformat_minor": 5
}
