{
 "cells": [
  {
   "cell_type": "markdown",
   "id": "91318b30",
   "metadata": {},
   "source": [
    "#### 1.\tWrite a Python Program to Display Fibonacci Sequence Using Recursion?"
   ]
  },
  {
   "cell_type": "code",
   "execution_count": 1,
   "id": "63619640",
   "metadata": {},
   "outputs": [
    {
     "name": "stdout",
     "output_type": "stream",
     "text": [
      "Enter a number: 5\n",
      "Fibonacci sequence:\n",
      "0\n",
      "1\n",
      "1\n",
      "2\n",
      "3\n"
     ]
    }
   ],
   "source": [
    "def fibonacci(n):\n",
    "   if n <= 1:\n",
    "       return n\n",
    "   else:\n",
    "       return(fibonacci(n-1) + fibonacci(n-2))\n",
    "number=int(input(\"Enter a number: \"))\n",
    "if number <= 0:\n",
    "   print(\"Plese enter a positive integer\")\n",
    "else:\n",
    "   print(\"Fibonacci sequence:\")\n",
    "   for i in range(number):\n",
    "       print(fibonacci(i))"
   ]
  },
  {
   "cell_type": "markdown",
   "id": "cb9b998b",
   "metadata": {},
   "source": [
    "#### 2.\tWrite a Python Program to Find Factorial of Number Using Recursion?"
   ]
  },
  {
   "cell_type": "code",
   "execution_count": 2,
   "id": "d757f413",
   "metadata": {},
   "outputs": [
    {
     "name": "stdout",
     "output_type": "stream",
     "text": [
      "Enter a number: 5\n",
      "Factorial of 5 is 20\n"
     ]
    }
   ],
   "source": [
    "def fact(number):\n",
    "    return number*(number-1)\n",
    "number=int(input(\"Enter a number: \"))\n",
    "if  number==1:\n",
    "    print(\"Factorial of {} is {}\".format(number,1))\n",
    "else:\n",
    "    print(\"Factorial of {} is {}\".format(number,fact(number)))"
   ]
  },
  {
   "cell_type": "markdown",
   "id": "142d6ce2",
   "metadata": {},
   "source": [
    "#### 3.\tWrite a Python Program to calculate your Body Mass Index?"
   ]
  },
  {
   "cell_type": "code",
   "execution_count": 3,
   "id": "555cd5f3",
   "metadata": {},
   "outputs": [
    {
     "name": "stdout",
     "output_type": "stream",
     "text": [
      "Enter your weight: 73\n",
      "Enter your height: 170\n",
      "Underweight\n"
     ]
    }
   ],
   "source": [
    "weight = int(input(\"Enter your weight: \"));\n",
    "height = float(input(\"Enter your height: \"));\n",
    "x = weight/float(height*height);\n",
    "if x < 18.5:\n",
    "    print('Underweight')\n",
    "if x>=18.5 and x<25:\n",
    "    print(\"Normal\")\n",
    "if x >= 25 and x < 30:\n",
    "   print('Overweight')\n",
    "if x >= 30:\n",
    "   print('Obesity')"
   ]
  },
  {
   "cell_type": "markdown",
   "id": "a89b9098",
   "metadata": {},
   "source": [
    "#### 4.\tWrite a Python Program to calculate the natural logarithm of any number?"
   ]
  },
  {
   "cell_type": "code",
   "execution_count": 14,
   "id": "93384647",
   "metadata": {},
   "outputs": [
    {
     "name": "stdout",
     "output_type": "stream",
     "text": [
      "Enter a number to calculate natural log: 70\n",
      "Natural log of 70.0 is: 4.248495242049359\n"
     ]
    }
   ],
   "source": [
    "import math\n",
    "number=float(input(\"Enter a number to calculate natural log: \"))\n",
    "print(\"Natural log of {} is: {}\".format(number,math.log(number)))"
   ]
  },
  {
   "cell_type": "markdown",
   "id": "8f7817a1",
   "metadata": {},
   "source": [
    "#### 5.\tWrite a Python Program for cube sum of first n natural numbers?"
   ]
  },
  {
   "cell_type": "code",
   "execution_count": 15,
   "id": "1240c8e4",
   "metadata": {},
   "outputs": [
    {
     "name": "stdout",
     "output_type": "stream",
     "text": [
      "Enter a number to get cube sum: 4\n",
      "Cube sum of first 4 natural number is :100.0\n"
     ]
    }
   ],
   "source": [
    "def cube_sum(n):\n",
    "    return (n*(n+1)/2)**2\n",
    "number=int(input(\"Enter a number to get cube sum: \"))\n",
    "print(\"Cube sum of first {} natural number is :{}\".format(number,cube_sum(number)))"
   ]
  }
 ],
 "metadata": {
  "kernelspec": {
   "display_name": "Python 3 (ipykernel)",
   "language": "python",
   "name": "python3"
  },
  "language_info": {
   "codemirror_mode": {
    "name": "ipython",
    "version": 3
   },
   "file_extension": ".py",
   "mimetype": "text/x-python",
   "name": "python",
   "nbconvert_exporter": "python",
   "pygments_lexer": "ipython3",
   "version": "3.9.7"
  }
 },
 "nbformat": 4,
 "nbformat_minor": 5
}
