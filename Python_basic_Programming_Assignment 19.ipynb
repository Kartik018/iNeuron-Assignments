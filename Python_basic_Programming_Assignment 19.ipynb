{
 "cells": [
  {
   "cell_type": "markdown",
   "id": "a87f0090",
   "metadata": {},
   "source": [
    "**Question1**\n",
    "Create a function that takes a string and returns a string in which each character is repeated once.\n",
    "\n",
    "**Examples**\n",
    "\n",
    "double_char(\"String\") ➞ \"SSttrriinngg\"\n",
    "\n",
    "double_char(\"Hello World!\") ➞ \"HHeelllloo  WWoorrlldd!!\"\n",
    "\n",
    "double_char(\"1234!_ \") ➞ \"11223344!!__  \"\n"
   ]
  },
  {
   "cell_type": "code",
   "execution_count": 4,
   "id": "8caf34fc",
   "metadata": {},
   "outputs": [],
   "source": [
    "def double_char(string):\n",
    "    final_string=''\n",
    "    for char in string:\n",
    "        final_string=final_string+char\n",
    "        final_string=final_string+char\n",
    "    return final_string"
   ]
  },
  {
   "cell_type": "code",
   "execution_count": 6,
   "id": "8aa3a1b9",
   "metadata": {},
   "outputs": [
    {
     "name": "stdout",
     "output_type": "stream",
     "text": [
      "SSttrriinngg\n",
      "HHeelllloo  WWoorrlldd!!\n",
      "11223344!!__  \n"
     ]
    }
   ],
   "source": [
    "print(double_char(\"String\"))\n",
    "print(double_char(\"Hello World!\"))\n",
    "print(double_char(\"1234!_ \"))"
   ]
  },
  {
   "cell_type": "markdown",
   "id": "137230d6",
   "metadata": {},
   "source": [
    "**Question2**\n",
    "Create a function that reverses a boolean value and returns the string \"boolean expected\" if another variable type is given.\n",
    "\n",
    "**Examples**\n",
    "\n",
    "reverse(True) ➞ False\n",
    "\n",
    "reverse(False) ➞ True\n",
    "\n",
    "reverse(0) ➞ \"boolean expected\"\n",
    "\n",
    "reverse(None) ➞ \"boolean expected\"\n"
   ]
  },
  {
   "cell_type": "code",
   "execution_count": 14,
   "id": "f1506f18",
   "metadata": {},
   "outputs": [],
   "source": [
    "def reverse(arg):\n",
    "    if type(arg)==bool:\n",
    "        return not arg\n",
    "    else:\n",
    "        return \"boolean expected\""
   ]
  },
  {
   "cell_type": "code",
   "execution_count": 15,
   "id": "795f16a6",
   "metadata": {},
   "outputs": [
    {
     "name": "stdout",
     "output_type": "stream",
     "text": [
      "False\n",
      "True\n",
      "boolean expected\n"
     ]
    }
   ],
   "source": [
    "print(reverse(True))\n",
    "print(reverse(False))\n",
    "print(reverse(None))"
   ]
  },
  {
   "cell_type": "markdown",
   "id": "16e0b4eb",
   "metadata": {},
   "source": [
    "**Question3**\n",
    "Create a function that returns the thickness (in meters) of a piece of paper after folding it n number of times. The paper starts off with a thickness of 0.5mm.\n",
    "\n",
    "Examples\n",
    "\n",
    "num_layers(1) ➞ \"0.001m\"\n",
    "#Paper folded once is 1mm (equal to 0.001m)\n",
    "\n",
    "num_layers(4) ➞ \"0.008m\"\n",
    "#Paper folded 4 times is 8mm (equal to 0.008m)\n",
    "\n",
    "num_layers(21) ➞ \"1048.576m\"\n",
    "#Paper folded 21 times is 1048576mm (equal to 1048.576m)\n"
   ]
  },
  {
   "cell_type": "code",
   "execution_count": 16,
   "id": "bebd1b54",
   "metadata": {},
   "outputs": [],
   "source": [
    "def num_layers(fold):\n",
    "    res = 0.5\n",
    "    for _ in range(fold):\n",
    "        res *= 2\n",
    "    return res / 1000 "
   ]
  },
  {
   "cell_type": "code",
   "execution_count": 17,
   "id": "2755edb2",
   "metadata": {},
   "outputs": [
    {
     "name": "stdout",
     "output_type": "stream",
     "text": [
      "0.001\n",
      "0.008\n",
      "1048.576\n"
     ]
    }
   ],
   "source": [
    "print(num_layers(1))\n",
    "print(num_layers(4))\n",
    "print(num_layers(21))"
   ]
  },
  {
   "cell_type": "markdown",
   "id": "716764ea",
   "metadata": {},
   "source": [
    "**Question4**\n",
    "Create a function that takes a single string as argument and returns an ordered list containing the indices of all capital letters in the string.\n",
    "\n",
    "**Examples**\n",
    "\n",
    "index_of_caps(\"eDaBiT\") ➞ [1, 3, 5]\n",
    "\n",
    "index_of_caps(\"eQuINoX\") ➞ [1, 3, 4, 6]\n",
    "\n",
    "index_of_caps(\"determine\") ➞ []\n",
    "\n",
    "index_of_caps(\"STRIKE\") ➞ [0, 1, 2, 3, 4, 5]\n",
    "\n",
    "index_of_caps(\"sUn\") ➞ [1]\n"
   ]
  },
  {
   "cell_type": "code",
   "execution_count": 24,
   "id": "2d9c593d",
   "metadata": {},
   "outputs": [],
   "source": [
    "def index_of_caps(string):\n",
    "    lst=[]\n",
    "    for i in range(len(string)):\n",
    "        if string[i].isupper():\n",
    "            lst.append(i)\n",
    "    return lst        "
   ]
  },
  {
   "cell_type": "code",
   "execution_count": 27,
   "id": "3c7d9eeb",
   "metadata": {},
   "outputs": [
    {
     "name": "stdout",
     "output_type": "stream",
     "text": [
      "[1, 3, 5]\n",
      "[1, 3, 4, 6]\n",
      "[]\n"
     ]
    }
   ],
   "source": [
    "print(index_of_caps(\"eDaBiT\"))\n",
    "print(index_of_caps(\"eQuINoX\"))\n",
    "print(index_of_caps(\"determine\"))"
   ]
  },
  {
   "cell_type": "markdown",
   "id": "bcbc2ef6",
   "metadata": {},
   "source": [
    "**Question5**\n",
    "Using list comprehensions, create a function that finds all even numbers from 1 to the given number.\n",
    "\n",
    "**Examples**\n",
    "\n",
    "find_even_nums(8) ➞ [2, 4, 6, 8]\n",
    "\n",
    "find_even_nums(4) ➞ [2, 4]\n",
    "\n",
    "find_even_nums(2) ➞ [2]\n",
    "\n"
   ]
  },
  {
   "cell_type": "code",
   "execution_count": 30,
   "id": "96f724b5",
   "metadata": {},
   "outputs": [],
   "source": [
    "def find_even_num(n):\n",
    "    lst=[i for i in range(1,n+1) if i%2==0]\n",
    "    return lst"
   ]
  },
  {
   "cell_type": "code",
   "execution_count": 34,
   "id": "9c727992",
   "metadata": {},
   "outputs": [
    {
     "name": "stdout",
     "output_type": "stream",
     "text": [
      "[2, 4, 6, 8]\n",
      "[2, 4]\n",
      "[2]\n"
     ]
    }
   ],
   "source": [
    "print(find_even_num(8))\n",
    "print(find_even_num(4))\n",
    "print(find_even_num(2))"
   ]
  }
 ],
 "metadata": {
  "kernelspec": {
   "display_name": "Python 3 (ipykernel)",
   "language": "python",
   "name": "python3"
  },
  "language_info": {
   "codemirror_mode": {
    "name": "ipython",
    "version": 3
   },
   "file_extension": ".py",
   "mimetype": "text/x-python",
   "name": "python",
   "nbconvert_exporter": "python",
   "pygments_lexer": "ipython3",
   "version": "3.9.7"
  }
 },
 "nbformat": 4,
 "nbformat_minor": 5
}
