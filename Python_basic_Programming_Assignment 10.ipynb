{
 "cells": [
  {
   "cell_type": "markdown",
   "id": "cd4a0674",
   "metadata": {},
   "source": [
    "#### 1.\tWrite a Python program to find sum of elements in list?"
   ]
  },
  {
   "cell_type": "code",
   "execution_count": 2,
   "id": "70b4bd15",
   "metadata": {},
   "outputs": [
    {
     "name": "stdout",
     "output_type": "stream",
     "text": [
      "Sum of element in list is: 1476.6\n"
     ]
    }
   ],
   "source": [
    "list1=[12,34.6,565,54,343,434,34]\n",
    "sum_of_ele=sum(list1)\n",
    "print(\"Sum of element in list is: {}\".format(sum_of_ele))"
   ]
  },
  {
   "cell_type": "code",
   "execution_count": 3,
   "id": "3143fa33",
   "metadata": {},
   "outputs": [
    {
     "name": "stdout",
     "output_type": "stream",
     "text": [
      "Sum of element in list is: 1476.6\n"
     ]
    }
   ],
   "source": [
    "list1=[12,34.6,565,54,343,434,34]\n",
    "sum_of_ele=0\n",
    "for ele in list1:\n",
    "    sum_of_ele=sum_of_ele+ele\n",
    "print(\"Sum of element in list is: {}\".format(sum_of_ele))"
   ]
  },
  {
   "cell_type": "markdown",
   "id": "0b0f1a64",
   "metadata": {},
   "source": [
    "#### 2.\tWrite a Python program to  Multiply all numbers in the list?"
   ]
  },
  {
   "cell_type": "code",
   "execution_count": 6,
   "id": "3326f0b2",
   "metadata": {},
   "outputs": [
    {
     "name": "stdout",
     "output_type": "stream",
     "text": [
      "Sum of element in list is: 64115394539616.016\n"
     ]
    }
   ],
   "source": [
    "list1=[12,34.6,565,54,343,434,34]\n",
    "multi=1\n",
    "for ele in list1:\n",
    "    multi=multi*ele\n",
    "print(\"Sum of element in list is: {}\".format(multi))    "
   ]
  },
  {
   "cell_type": "markdown",
   "id": "39cbe87a",
   "metadata": {},
   "source": [
    "#### 3.\tWrite a Python program to find smallest number in a list?"
   ]
  },
  {
   "cell_type": "code",
   "execution_count": 8,
   "id": "fb13d1e1",
   "metadata": {},
   "outputs": [
    {
     "name": "stdout",
     "output_type": "stream",
     "text": [
      "Smallest number is :12\n"
     ]
    }
   ],
   "source": [
    "list1=[12,34.6,565,54,343,434,34]\n",
    "smallest=min(list1)\n",
    "print(\"Smallest number is :{}\".format(smallest))"
   ]
  },
  {
   "cell_type": "code",
   "execution_count": 11,
   "id": "cc421f10",
   "metadata": {},
   "outputs": [
    {
     "name": "stdout",
     "output_type": "stream",
     "text": [
      "Smallest number in list is: 12\n"
     ]
    }
   ],
   "source": [
    "list1=[12,34.6,565,54,343,434,34]\n",
    "mini=list1[0]\n",
    "for i in range(len(list1)):\n",
    "    if list1[i]<mini:\n",
    "        mini=list1[i]\n",
    "print(\"Smallest number in list is: {}\".format(mini))        "
   ]
  },
  {
   "cell_type": "markdown",
   "id": "676e098b",
   "metadata": {},
   "source": [
    "#### 4.\tWrite a Python program to find largest number in a list?"
   ]
  },
  {
   "cell_type": "code",
   "execution_count": 10,
   "id": "1a14bdc0",
   "metadata": {},
   "outputs": [
    {
     "name": "stdout",
     "output_type": "stream",
     "text": [
      "Smallest number in list is: 565\n"
     ]
    }
   ],
   "source": [
    "list1=[12,34.6,565,54,343,434,34]\n",
    "largest=max(list1)\n",
    "print(\"Smallest number in list is: {}\".format(largest))        "
   ]
  },
  {
   "cell_type": "code",
   "execution_count": 13,
   "id": "bbfd6746",
   "metadata": {},
   "outputs": [
    {
     "name": "stdout",
     "output_type": "stream",
     "text": [
      "Largest number in list is : 565\n"
     ]
    }
   ],
   "source": [
    "list1=[12,34.6,565,54,343,434,34]\n",
    "maxi=list1[0]\n",
    "for i in range(len(list1)):\n",
    "    if list1[i]>maxi:\n",
    "        maxi=list1[i]\n",
    "print(\"Largest number in list is : {}\".format(maxi))        "
   ]
  },
  {
   "cell_type": "markdown",
   "id": "e880bd02",
   "metadata": {},
   "source": [
    "#### 5.\tWrite a Python program to find second largest number in a list?"
   ]
  },
  {
   "cell_type": "code",
   "execution_count": 15,
   "id": "809092d7",
   "metadata": {},
   "outputs": [
    {
     "name": "stdout",
     "output_type": "stream",
     "text": [
      "Second largest number in a list is : 434\n"
     ]
    }
   ],
   "source": [
    "list1=[12,34.6,565,54,343,434,34]\n",
    "max1=max(list1)\n",
    "list1.remove(max1)\n",
    "max2=max(list1)\n",
    "print(\"Second largest number in a list is : {}\".format(max2))"
   ]
  },
  {
   "cell_type": "code",
   "execution_count": 23,
   "id": "32bed37e",
   "metadata": {},
   "outputs": [
    {
     "name": "stdout",
     "output_type": "stream",
     "text": [
      "Second largest number in list is : 434\n"
     ]
    }
   ],
   "source": [
    "list1=[12,34.6,565,54,343,434,34]\n",
    "list1.sort()\n",
    "print(\"Second largest number in list is : {}\".format(list1[-2]))"
   ]
  },
  {
   "cell_type": "markdown",
   "id": "52f6e11a",
   "metadata": {},
   "source": [
    "#### 6.\tWrite a Python program to find N largest elements from a list?"
   ]
  },
  {
   "cell_type": "code",
   "execution_count": 24,
   "id": "dbd23da1",
   "metadata": {},
   "outputs": [
    {
     "name": "stdout",
     "output_type": "stream",
     "text": [
      "Enter how many largest number you want: 3\n"
     ]
    },
    {
     "data": {
      "text/plain": [
       "[343, 434, 565]"
      ]
     },
     "execution_count": 24,
     "metadata": {},
     "output_type": "execute_result"
    }
   ],
   "source": [
    "list1=[12,34.6,565,54,343,434,34]\n",
    "n=int(input(\"Enter how many largest number you want: \"))\n",
    "list1.sort()\n",
    "list1[-n:]"
   ]
  },
  {
   "cell_type": "markdown",
   "id": "82565c0c",
   "metadata": {},
   "source": [
    "#### 7.\tWrite a Python program to print even numbers in a list?"
   ]
  },
  {
   "cell_type": "code",
   "execution_count": 29,
   "id": "3a724c7e",
   "metadata": {},
   "outputs": [
    {
     "name": "stdout",
     "output_type": "stream",
     "text": [
      "Even numbers in a list are: [12, 54, 434, 34]\n"
     ]
    }
   ],
   "source": [
    "list1=[12,34.6,565,54,343,434,34]\n",
    "even=[]\n",
    "for i in list1:\n",
    "    if i%2==0:\n",
    "        even.append(i)\n",
    "print(\"Even numbers in a list are: {}\".format(even))        "
   ]
  },
  {
   "cell_type": "markdown",
   "id": "5c99fdea",
   "metadata": {},
   "source": [
    "#### 8.\tWrite a Python program to print odd numbers in a List?"
   ]
  },
  {
   "cell_type": "code",
   "execution_count": 30,
   "id": "809bcba3",
   "metadata": {},
   "outputs": [
    {
     "name": "stdout",
     "output_type": "stream",
     "text": [
      "Even numbers in a list are: [565, 343]\n"
     ]
    }
   ],
   "source": [
    "list1=[12,34.6,565,54,343,434,34]\n",
    "odd=[]\n",
    "for i in list1:\n",
    "    if i%2==1:\n",
    "        odd.append(i)\n",
    "print(\"Even numbers in a list are: {}\".format(odd))        "
   ]
  },
  {
   "cell_type": "markdown",
   "id": "29b28e07",
   "metadata": {},
   "source": [
    "#### 9.\tWrite a Python program to Remove empty List from List?"
   ]
  },
  {
   "cell_type": "code",
   "execution_count": 32,
   "id": "51d54a48",
   "metadata": {},
   "outputs": [
    {
     "name": "stdout",
     "output_type": "stream",
     "text": [
      "[43, 454, 567, 'rrrf']\n"
     ]
    }
   ],
   "source": [
    "list1=[43,454,[],567,[],'rrrf']\n",
    "\n",
    "new_list=[]\n",
    "for i in list1:\n",
    "    if type(i)==list and len(i)==0:\n",
    "        list1.remove(i)\n",
    "print(list1)        "
   ]
  },
  {
   "cell_type": "markdown",
   "id": "0067ba17",
   "metadata": {},
   "source": [
    "#### 10.\tWrite a Python program to Cloning or Copying a list?"
   ]
  },
  {
   "cell_type": "code",
   "execution_count": 46,
   "id": "5ffd4f73",
   "metadata": {},
   "outputs": [
    {
     "name": "stdout",
     "output_type": "stream",
     "text": [
      "Original list is :[12, 34.6, 565, 54, 343, 434, 34]\n",
      "Cloned list is : [12, 34.6, 565, 54, 343, 434, 34]\n"
     ]
    }
   ],
   "source": [
    "list1=[12,34.6,565,54,343,434,34]\n",
    "cloned_list=list1\n",
    "print(\"Original list is :{}\".format(list1))\n",
    "print(\"Cloned list is : {}\".format(cloned_list))"
   ]
  },
  {
   "cell_type": "markdown",
   "id": "70317dee",
   "metadata": {},
   "source": [
    "#### 11.\tWrite a Python program to Count occurrences of an element in a list?"
   ]
  },
  {
   "cell_type": "code",
   "execution_count": 47,
   "id": "9dcf73f4",
   "metadata": {},
   "outputs": [
    {
     "name": "stdout",
     "output_type": "stream",
     "text": [
      "Number of occurences of 12 is: 3\n"
     ]
    }
   ],
   "source": [
    "list1=[12,34.6,565,12,343,434,12]\n",
    "coun=list1.count(12)\n",
    "print(\"Number of occurences of 12 is: {}\".format(coun))"
   ]
  },
  {
   "cell_type": "code",
   "execution_count": 48,
   "id": "46e9b769",
   "metadata": {},
   "outputs": [
    {
     "name": "stdout",
     "output_type": "stream",
     "text": [
      "Number of occurences of 12 is: 3\n"
     ]
    }
   ],
   "source": [
    "list1=[12,34.6,565,12,343,434,12]\n",
    "count=0\n",
    "for ele in list1:\n",
    "    if ele==12:\n",
    "        count+=1\n",
    "print(\"Number of occurences of 12 is: {}\".format(count))        "
   ]
  }
 ],
 "metadata": {
  "kernelspec": {
   "display_name": "Python 3 (ipykernel)",
   "language": "python",
   "name": "python3"
  },
  "language_info": {
   "codemirror_mode": {
    "name": "ipython",
    "version": 3
   },
   "file_extension": ".py",
   "mimetype": "text/x-python",
   "name": "python",
   "nbconvert_exporter": "python",
   "pygments_lexer": "ipython3",
   "version": "3.9.7"
  }
 },
 "nbformat": 4,
 "nbformat_minor": 5
}
