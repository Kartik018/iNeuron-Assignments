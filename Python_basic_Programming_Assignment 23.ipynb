{
 "cells": [
  {
   "cell_type": "markdown",
   "id": "b26ffb15",
   "metadata": {},
   "source": [
    "**Question 1**\n",
    "\n",
    "Create a function that takes a number as an argument and returns True or False depending on whether the number is symmetrical or not. A number is symmetrical when it is the same as its reverse.\n",
    "\n",
    "**Examples**\n",
    "\n",
    "is_symmetrical(7227) ➞ True\n",
    "\n",
    "is_symmetrical(12567) ➞ False\n",
    "\n",
    "is_symmetrical(44444444) ➞ True\n",
    "\n",
    "is_symmetrical(9939) ➞ False\n",
    "\n",
    "is_symmetrical(1112111) ➞ True\n"
   ]
  },
  {
   "cell_type": "code",
   "execution_count": 10,
   "id": "0214c5f4",
   "metadata": {},
   "outputs": [],
   "source": [
    "def is_symmetrical(num):\n",
    "    string=str(num)\n",
    "    if string==string[::-1]:\n",
    "        return True\n",
    "    else:\n",
    "        return False"
   ]
  },
  {
   "cell_type": "code",
   "execution_count": 11,
   "id": "5e98bd78",
   "metadata": {},
   "outputs": [
    {
     "name": "stdout",
     "output_type": "stream",
     "text": [
      "True\n",
      "False\n"
     ]
    }
   ],
   "source": [
    "print(is_symmetrical(1112111))\n",
    "print(is_symmetrical(12567))"
   ]
  },
  {
   "cell_type": "markdown",
   "id": "64df9ae2",
   "metadata": {},
   "source": [
    "**Question 2**\n",
    "\n",
    "Given a string of numbers separated by a comma and space, return the product of the numbers.\n",
    "\n",
    "**Examples**\n",
    "\n",
    "multiply_nums(\"2, 3\") ➞ 6\n",
    "\n",
    "multiply_nums(\"1, 2, 3, 4\") ➞ 24\n",
    "\n",
    "multiply_nums(\"54, 75, 453, 0\") ➞ 0\n",
    "\n",
    "multiply_nums(\"10, -2\") ➞ -20\n",
    "\n"
   ]
  },
  {
   "cell_type": "code",
   "execution_count": 15,
   "id": "55deb647",
   "metadata": {},
   "outputs": [],
   "source": [
    "def multiply_nums(string):\n",
    "    numbers=[int(i) for i in string.split(',')]\n",
    "    mul=1\n",
    "    for num in numbers:\n",
    "        mul=mul*num\n",
    "    return mul    "
   ]
  },
  {
   "cell_type": "code",
   "execution_count": 17,
   "id": "5c47be02",
   "metadata": {},
   "outputs": [
    {
     "name": "stdout",
     "output_type": "stream",
     "text": [
      "-20\n",
      "24\n",
      "0\n"
     ]
    }
   ],
   "source": [
    "print(multiply_nums(\"10, -2\") )\n",
    "print(multiply_nums(\"1, 2, 3, 4\"))\n",
    "print(multiply_nums(\"54, 75, 453, 0\"))"
   ]
  },
  {
   "cell_type": "markdown",
   "id": "77d18a86",
   "metadata": {},
   "source": [
    "**Question 3**\n",
    "\n",
    "\n",
    "Create a function that squares every digit of a number.\n",
    "\n",
    "**Examples**\n",
    "\n",
    "square_digits(9119) ➞ 811181\n",
    "\n",
    "square_digits(2483) ➞ 416649\n",
    "\n",
    "square_digits(3212) ➞ 9414\n",
    "\n",
    "**Notes**\n",
    "\n",
    "The function receives an integer and must return an integer.\n"
   ]
  },
  {
   "cell_type": "code",
   "execution_count": 30,
   "id": "441f4443",
   "metadata": {},
   "outputs": [],
   "source": [
    "def square_digits(num):\n",
    "    num=str(num)\n",
    "    square_string=''\n",
    "    for n in num:\n",
    "        square=int(n)*int(n)\n",
    "        square_string=square_string+str(square)\n",
    "    return square_string  "
   ]
  },
  {
   "cell_type": "code",
   "execution_count": 32,
   "id": "2cbfaaa5",
   "metadata": {},
   "outputs": [
    {
     "name": "stdout",
     "output_type": "stream",
     "text": [
      "811181\n",
      "416649\n",
      "9414\n"
     ]
    }
   ],
   "source": [
    "print(square_digits(9119))\n",
    "print(square_digits(2483))\n",
    "print(square_digits(3212))"
   ]
  },
  {
   "cell_type": "markdown",
   "id": "79067eaf",
   "metadata": {},
   "source": [
    "**Question 4**\n",
    "\n",
    "Create a function that sorts a list and removes all duplicate items from it.\n",
    "\n",
    "**Examples**\n",
    "\n",
    "setify([1, 3, 3, 5, 5]) ➞ [1, 3, 5]\n",
    "\n",
    "setify([4, 4, 4, 4]) ➞ [4]\n",
    "\n",
    "setify([5, 7, 8, 9, 10, 15]) ➞ [5, 7, 8, 9, 10, 15]\n",
    "\n",
    "setify([3, 3, 3, 2, 1]) ➞ [1, 2, 3]\n"
   ]
  },
  {
   "cell_type": "code",
   "execution_count": 33,
   "id": "8c965b42",
   "metadata": {},
   "outputs": [],
   "source": [
    "def setify(lis):\n",
    "    lis=set(lis)\n",
    "    return list(lis)"
   ]
  },
  {
   "cell_type": "code",
   "execution_count": 35,
   "id": "0ef9b886",
   "metadata": {},
   "outputs": [
    {
     "name": "stdout",
     "output_type": "stream",
     "text": [
      "[5, 7, 8, 9, 10, 15]\n",
      "[1, 2, 3]\n"
     ]
    }
   ],
   "source": [
    "print(setify([5, 7, 8, 9, 10, 15]))\n",
    "print(setify([3, 3, 3, 2, 1]) )"
   ]
  },
  {
   "cell_type": "markdown",
   "id": "1de5047b",
   "metadata": {},
   "source": [
    "**Question 5**\n",
    "\n",
    "Create a function that returns the mean of all digits.\n",
    "\n",
    "**Examples**\n",
    "\n",
    "mean(42) ➞ 3\n",
    "\n",
    "mean(12345) ➞ 3\n",
    "\n",
    "mean(666) ➞ 6\n",
    "\n",
    "**Notes**\n",
    "\n",
    "- The mean of all digits is the sum of digits / how many digits there are (e.g. mean of digits in 512 is (5+1+2)/3(number of digits) = 8/3=2).\n",
    "\n",
    "- The mean will always be an integer.\n"
   ]
  },
  {
   "cell_type": "code",
   "execution_count": 41,
   "id": "2e70cbd3",
   "metadata": {},
   "outputs": [],
   "source": [
    "def mean(num):\n",
    "    num_str=str(num)\n",
    "    n=len(num_str)\n",
    "    lis=[int(i) for i in num_str]\n",
    "    mean=sum(lis)\n",
    "    return mean//n"
   ]
  },
  {
   "cell_type": "code",
   "execution_count": 43,
   "id": "ab72b6c6",
   "metadata": {},
   "outputs": [
    {
     "name": "stdout",
     "output_type": "stream",
     "text": [
      "3\n",
      "6\n"
     ]
    }
   ],
   "source": [
    "print(mean(42))\n",
    "print(mean(666))"
   ]
  }
 ],
 "metadata": {
  "kernelspec": {
   "display_name": "Python 3 (ipykernel)",
   "language": "python",
   "name": "python3"
  },
  "language_info": {
   "codemirror_mode": {
    "name": "ipython",
    "version": 3
   },
   "file_extension": ".py",
   "mimetype": "text/x-python",
   "name": "python",
   "nbconvert_exporter": "python",
   "pygments_lexer": "ipython3",
   "version": "3.9.7"
  }
 },
 "nbformat": 4,
 "nbformat_minor": 5
}
