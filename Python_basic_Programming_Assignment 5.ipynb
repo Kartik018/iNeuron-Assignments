{
 "cells": [
  {
   "cell_type": "markdown",
   "id": "0a16faa1",
   "metadata": {},
   "source": [
    "#### 1.\tWrite a Python Program to Find LCM?"
   ]
  },
  {
   "cell_type": "code",
   "execution_count": 11,
   "id": "1c2a378a",
   "metadata": {},
   "outputs": [
    {
     "name": "stdout",
     "output_type": "stream",
     "text": [
      "Enter the two numbers: 3 6\n",
      "LCM of 3 and 6 is : 6\n"
     ]
    }
   ],
   "source": [
    "def lcm(n,m):\n",
    "    maximum=max(n,m)\n",
    "    while(True):\n",
    "        if (maximum%n==0) and (maximum%m==0):\n",
    "            lcm=maximum\n",
    "            break\n",
    "        maximum+=1\n",
    "    return maximum    \n",
    "n,m=map(int, input(\"Enter the two numbers: \").split())\n",
    "print(\"LCM of {} and {} is : {}\".format(n,m,lcm(n,m)))"
   ]
  },
  {
   "cell_type": "markdown",
   "id": "db2aabbe",
   "metadata": {},
   "source": [
    "#### 2.\tWrite a Python Program to Find HCF?"
   ]
  },
  {
   "cell_type": "code",
   "execution_count": 16,
   "id": "13fb62e5",
   "metadata": {},
   "outputs": [
    {
     "name": "stdout",
     "output_type": "stream",
     "text": [
      "Enter the two numbers: 10 20\n",
      "HCF of 10 and 20 is: 10\n"
     ]
    }
   ],
   "source": [
    "def hcf(n,m):\n",
    "    minimum=min(n,m)\n",
    "    for i in range(1,minimum+1):\n",
    "        if (minimum%i==0) and (minimum%i==0):\n",
    "            hcf=i\n",
    "    return hcf\n",
    "n,m=map(int, input(\"Enter the two numbers: \").split())\n",
    "print(\"HCF of {} and {} is: {}\".format(n,m,hcf(n,m)))"
   ]
  },
  {
   "cell_type": "markdown",
   "id": "c5d8a3ed",
   "metadata": {},
   "source": [
    "#### 3.\tWrite a Python Program to Convert Decimal to Binary, Octal and Hexadecimal?"
   ]
  },
  {
   "cell_type": "code",
   "execution_count": 19,
   "id": "aebc0b8b",
   "metadata": {},
   "outputs": [
    {
     "name": "stdout",
     "output_type": "stream",
     "text": [
      "Enter the number to convert: 5\n",
      "Binary conversion  of 5 is: 0b101\n",
      "Octal conversion  of 5 is: 0o5\n",
      "Hexadecimal conversion  of 5 is: 0x5\n"
     ]
    }
   ],
   "source": [
    "dec=int(input(\"Enter the number to convert: \"))\n",
    "print(\"Binary conversion  of {} is: {}\".format(dec,bin(dec)))\n",
    "print(\"Octal conversion  of {} is: {}\".format(dec,oct(dec)))\n",
    "print(\"Hexadecimal conversion  of {} is: {}\".format(dec,hex(dec)))\n"
   ]
  },
  {
   "cell_type": "markdown",
   "id": "37e789f9",
   "metadata": {},
   "source": [
    "#### 4.\tWrite a Python Program To Find ASCII value of a character?"
   ]
  },
  {
   "cell_type": "code",
   "execution_count": 20,
   "id": "7d750199",
   "metadata": {},
   "outputs": [
    {
     "name": "stdout",
     "output_type": "stream",
     "text": [
      "Enter a character: p\n",
      "ASCII value of character is: 112\n"
     ]
    }
   ],
   "source": [
    "character=input(\"Enter a character: \")\n",
    "print(\"ASCII value of character is: {}\".format(ord(character)))"
   ]
  },
  {
   "cell_type": "markdown",
   "id": "e8e3d5a4",
   "metadata": {},
   "source": [
    "#### 5.\tWrite a Python Program to Make a Simple Calculator with 4 basic mathematical operations?"
   ]
  },
  {
   "cell_type": "code",
   "execution_count": 26,
   "id": "92f0cd2a",
   "metadata": {},
   "outputs": [
    {
     "name": "stdout",
     "output_type": "stream",
     "text": [
      "Select operation\n",
      "1: Addition\n",
      "2: Substraction\n",
      "3: Multiplication\n",
      "4: Division\n",
      " 5:Exit\n",
      "Enter the operation: 4\n",
      "Enter the first number: 5\n",
      "Enter the second number: 0\n",
      "Division of numbers is division by zero \n",
      "Select operation\n",
      "1: Addition\n",
      "2: Substraction\n",
      "3: Multiplication\n",
      "4: Division\n",
      " 5:Exit\n",
      "Enter the operation: 5\n"
     ]
    }
   ],
   "source": [
    "def addition(num1,num2):\n",
    "    return num1+num2\n",
    "def substraction(num1,num2):\n",
    "    return num1-num2\n",
    "def multiplication(num1,num2):\n",
    "    return num1*num2\n",
    "def division(num1,num2):\n",
    "    try:\n",
    "        return num1/num2\n",
    "    except Exception as e:\n",
    "        return e\n",
    "while(True):\n",
    "    print(\"Select operation\")\n",
    "    print(\"1: Addition\\n2: Substraction\\n3: Multiplication\\n4: Division\\n 5:Exit\")\n",
    "    operation=int(input(\"Enter the operation: \"))\n",
    "    if operation==1:\n",
    "        num1=int(input(\"Enter the first number: \"))\n",
    "        num2=int(input(\"Enter the second number: \"))\n",
    "        print(\"Addition of numbers is {}\".format(addition(num1,num2)))\n",
    "    elif operation==2:\n",
    "        num1=int(input(\"Enter the first number: \"))\n",
    "        num2=int(input(\"Enter the second number: \"))\n",
    "        print(\"Substraction of numbers is {} \".format(substraction(num1,num2)))\n",
    "    elif operation==3:\n",
    "        num1=int(input(\"Enter the first number: \"))\n",
    "        num2=int(input(\"Enter the second number: \"))\n",
    "        print(\"Multiplication of numbers is {} \".format(multiplication(num1,num2)))\n",
    "    elif operation==4:\n",
    "        num1=int(input(\"Enter the first number: \"))\n",
    "        num2=int(input(\"Enter the second number: \"))\n",
    "        print(\"Division of numbers is {} \".format(division(num1,num2)))\n",
    "    else:\n",
    "        break"
   ]
  }
 ],
 "metadata": {
  "kernelspec": {
   "display_name": "Python 3 (ipykernel)",
   "language": "python",
   "name": "python3"
  },
  "language_info": {
   "codemirror_mode": {
    "name": "ipython",
    "version": 3
   },
   "file_extension": ".py",
   "mimetype": "text/x-python",
   "name": "python",
   "nbconvert_exporter": "python",
   "pygments_lexer": "ipython3",
   "version": "3.9.7"
  }
 },
 "nbformat": 4,
 "nbformat_minor": 5
}
