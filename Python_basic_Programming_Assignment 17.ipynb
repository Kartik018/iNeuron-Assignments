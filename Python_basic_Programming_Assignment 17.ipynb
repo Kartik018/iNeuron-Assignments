{
 "cells": [
  {
   "cell_type": "markdown",
   "id": "8e90f153",
   "metadata": {},
   "source": [
    "**Question1.** Create a function that takes three arguments a, b, c and returns the sum of the numbers that are evenly divided by c from the range a, b inclusive.\n",
    "Examples\n",
    "evenly_divisible(1, 10, 20) ➞ 0\n",
    "\n",
    "No number between 1 and 10 can be evenly divided by 20.\n",
    "\n",
    "evenly_divisible(1, 10, 2) ➞ 30\n",
    "\n",
    "2 + 4 + 6 + 8 + 10 = 30\n",
    "\n",
    "evenly_divisible(1, 10, 3) ➞ 18\n",
    "\n",
    "3 + 6 + 9 = 18\n"
   ]
  },
  {
   "cell_type": "code",
   "execution_count": 3,
   "id": "b07a0dcb",
   "metadata": {},
   "outputs": [
    {
     "name": "stdout",
     "output_type": "stream",
     "text": [
      "18\n"
     ]
    }
   ],
   "source": [
    "def evenly_divisible_sum(a,b,c):\n",
    "    sum=0\n",
    "    for num in range(a,b+1):\n",
    "        if num%c==0:\n",
    "            sum+=num\n",
    "    return sum\n",
    "print(evenly_divisible_sum(1,10,3))\n"
   ]
  },
  {
   "cell_type": "markdown",
   "id": "793ba42b",
   "metadata": {},
   "source": [
    "**Question2.** Create a function that returns True if a given inequality expression is correct and False otherwise.\n",
    "Examples\n",
    "\n",
    "correct_signs(\"3 < 7 < 11\") ➞ True\n",
    "\n",
    "correct_signs(\"13 > 44 > 33 > 1\") ➞ False\n",
    "\n",
    "correct_signs(\"1 < 2 < 6 < 9 > 3\") ➞ True\n"
   ]
  },
  {
   "cell_type": "code",
   "execution_count": 6,
   "id": "61fa9839",
   "metadata": {},
   "outputs": [
    {
     "name": "stdout",
     "output_type": "stream",
     "text": [
      "True\n",
      "False\n"
     ]
    }
   ],
   "source": [
    "def check(s):\n",
    "    regex=eval(s)\n",
    "    if regex:\n",
    "        return True\n",
    "    else:\n",
    "        return False \n",
    "print(check(\"3 < 7 < 11\"))\n",
    "print(check(\"13 > 44 > 33 > 1\"))"
   ]
  },
  {
   "cell_type": "markdown",
   "id": "06681953",
   "metadata": {},
   "source": [
    "**Question3.** Create a function that replaces all the vowels in a string with a specified character.\n",
    "Examples\n",
    "\n",
    "replace_vowels(\"the aardvark\", \"#\") ➞ \"th# ##rdv#rk\"\n",
    "\n",
    "replace_vowels(\"minnie mouse\", \"?\") ➞ \"m?nn?? m??s?\"\n",
    "\n",
    "replace_vowels(\"shakespeare\", \"*\") ➞ \"sh*k*sp**r*\"\n",
    "\n"
   ]
  },
  {
   "cell_type": "code",
   "execution_count": 7,
   "id": "634bcfec",
   "metadata": {},
   "outputs": [
    {
     "name": "stdout",
     "output_type": "stream",
     "text": [
      "th# ##rdv#rk\n",
      "m?nn?? m??s?\n",
      "sh*k*sp**r*\n"
     ]
    }
   ],
   "source": [
    "def replace_vowels(string,replacer):\n",
    "    vowels='AEIOUaeiou'\n",
    "    for char in string:\n",
    "        if char in vowels:\n",
    "            string=string.replace(char,replacer)\n",
    "    print(string)\n",
    "replace_vowels(\"the aardvark\", \"#\")\n",
    "\n",
    "replace_vowels(\"minnie mouse\", \"?\")\n",
    "\n",
    "replace_vowels(\"shakespeare\", \"*\")"
   ]
  },
  {
   "cell_type": "markdown",
   "id": "efe66939",
   "metadata": {},
   "source": [
    "**Question4.** Write a function that calculates the factorial of a number recursively.\n",
    "Examples\n",
    "factorial(5) ➞ 120\n",
    "\n",
    "factorial(3) ➞ 6\n",
    "\n",
    "factorial(1) ➞ 1\n",
    "\n",
    "factorial(0) ➞ 1\n",
    "\n"
   ]
  },
  {
   "cell_type": "code",
   "execution_count": 9,
   "id": "986e8156",
   "metadata": {},
   "outputs": [
    {
     "name": "stdout",
     "output_type": "stream",
     "text": [
      "6\n",
      "1\n",
      "1\n"
     ]
    }
   ],
   "source": [
    "def fact(num):\n",
    "    if num == 0:\n",
    "        return 1\n",
    "     \n",
    "    return num * fact(num-1)\n",
    "print(fact(3))\n",
    "print(fact(1))\n",
    "print(fact(0))"
   ]
  },
  {
   "cell_type": "markdown",
   "id": "64ad6d43",
   "metadata": {},
   "source": [
    "**Question 5**\n",
    "Hamming distance is the number of characters that differ between two strings.\n",
    "\n",
    "To illustrate:\n",
    "\n",
    "String1: \"abcbba\"\n",
    "\n",
    "String2: \"abcbda\"\n",
    "\n",
    "Hamming Distance: 1 - \"b\" vs. \"d\" is the only difference.\n",
    "\n",
    "Create a function that computes the hamming distance between two strings.\n",
    "\n",
    "**Examples**\n",
    "\n",
    "hamming_distance(\"abcde\", \"bcdef\") ➞ 5\n",
    "\n",
    "hamming_distance(\"abcde\", \"abcde\") ➞ 0\n",
    "\n",
    "hamming_distance(\"strong\", \"strung\") ➞ 1\n"
   ]
  },
  {
   "cell_type": "code",
   "execution_count": 18,
   "id": "036c8c8a",
   "metadata": {},
   "outputs": [],
   "source": [
    "def hamming_distance(string_a,string_b):\n",
    "    hamming_dist=0\n",
    "    if len(string_a)==len(string_b):\n",
    "        for i in range(len(string_a)):\n",
    "            if string_a[i]!=string_b[i]:\n",
    "                hamming_dist=hamming_dist+1\n",
    "            else:\n",
    "                pass\n",
    "    else:\n",
    "        print(\"Enter two string having same length\")\n",
    "    return hamming_dist    "
   ]
  },
  {
   "cell_type": "code",
   "execution_count": 20,
   "id": "35fd5b6f",
   "metadata": {},
   "outputs": [
    {
     "name": "stdout",
     "output_type": "stream",
     "text": [
      "5\n",
      "0\n",
      "1\n"
     ]
    }
   ],
   "source": [
    "print(hamming_distance(\"abcde\", \"bcdef\")) \n",
    "print(hamming_distance(\"abcde\", \"abcde\"))\n",
    "print(hamming_distance(\"strong\", \"strung\"))"
   ]
  },
  {
   "cell_type": "code",
   "execution_count": null,
   "id": "1ab411b4",
   "metadata": {},
   "outputs": [],
   "source": []
  }
 ],
 "metadata": {
  "kernelspec": {
   "display_name": "Python 3 (ipykernel)",
   "language": "python",
   "name": "python3"
  },
  "language_info": {
   "codemirror_mode": {
    "name": "ipython",
    "version": 3
   },
   "file_extension": ".py",
   "mimetype": "text/x-python",
   "name": "python",
   "nbconvert_exporter": "python",
   "pygments_lexer": "ipython3",
   "version": "3.9.7"
  }
 },
 "nbformat": 4,
 "nbformat_minor": 5
}
