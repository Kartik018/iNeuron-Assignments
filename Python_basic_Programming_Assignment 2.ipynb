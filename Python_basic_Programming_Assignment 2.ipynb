{
 "cells": [
  {
   "cell_type": "markdown",
   "id": "1fe43ef0",
   "metadata": {},
   "source": [
    "#### 1.\tWrite a Python program to convert kilometers to miles?"
   ]
  },
  {
   "cell_type": "code",
   "execution_count": 1,
   "id": "8db49202",
   "metadata": {},
   "outputs": [
    {
     "name": "stdout",
     "output_type": "stream",
     "text": [
      "2.485484768\n"
     ]
    }
   ],
   "source": [
    "kilometers=4\n",
    "k_to_m=0.621371192*kilometers\n",
    "print(k_to_m)"
   ]
  },
  {
   "cell_type": "markdown",
   "id": "b4da39b2",
   "metadata": {},
   "source": [
    "#### 2.\tWrite a Python program to convert Celsius to Fahrenheit?"
   ]
  },
  {
   "cell_type": "code",
   "execution_count": 2,
   "id": "b01ed0d0",
   "metadata": {},
   "outputs": [
    {
     "name": "stdout",
     "output_type": "stream",
     "text": [
      "1689.9999999999998\n"
     ]
    }
   ],
   "source": [
    "Celsius=50\n",
    "cToF=33.8*Celsius\n",
    "print(cToF)"
   ]
  },
  {
   "cell_type": "markdown",
   "id": "c689691c",
   "metadata": {},
   "source": [
    "#### 3.\tWrite a Python program to display calendar?"
   ]
  },
  {
   "cell_type": "code",
   "execution_count": 3,
   "id": "14cca5aa",
   "metadata": {},
   "outputs": [
    {
     "name": "stdout",
     "output_type": "stream",
     "text": [
      "   December 2021\n",
      "Mo Tu We Th Fr Sa Su\n",
      "       1  2  3  4  5\n",
      " 6  7  8  9 10 11 12\n",
      "13 14 15 16 17 18 19\n",
      "20 21 22 23 24 25 26\n",
      "27 28 29 30 31\n",
      "\n"
     ]
    }
   ],
   "source": [
    "import calendar\n",
    "yy = 2021 # year\n",
    "mm = 12   # month\n",
    "print(calendar.month(yy, mm))"
   ]
  },
  {
   "cell_type": "markdown",
   "id": "903c22b2",
   "metadata": {},
   "source": [
    "#### 4.\tWrite a Python program to solve quadratic equation?"
   ]
  },
  {
   "cell_type": "code",
   "execution_count": 4,
   "id": "bf36e9ca",
   "metadata": {},
   "outputs": [
    {
     "name": "stdout",
     "output_type": "stream",
     "text": [
      "The roots are (-1-1.4142135623730951j) , (-0.9999999999999999+1.4142135623730951j)\n"
     ]
    }
   ],
   "source": [
    "# Solve the quadratic equation ax**2 + bx + c = 0\n",
    "\n",
    "a=1\n",
    "b=2\n",
    "c=3\n",
    "d=(b**2)-(4*a*c)\n",
    "sol1 = (-b-(d)**0.5)/(2*a)\n",
    "sol2 = (-b+(d)**0.5)/(2*a)\n",
    "print(\"The roots are {} , {}\".format(sol1,sol2))"
   ]
  },
  {
   "cell_type": "markdown",
   "id": "c818f6e1",
   "metadata": {},
   "source": [
    "#### 5.\tWrite a Python program to swap two variables without temp variable?"
   ]
  },
  {
   "cell_type": "code",
   "execution_count": 5,
   "id": "13a88316",
   "metadata": {},
   "outputs": [
    {
     "name": "stdout",
     "output_type": "stream",
     "text": [
      "a is 15 , b is 25\n"
     ]
    }
   ],
   "source": [
    "a=25\n",
    "b=15\n",
    "a,b=b,a\n",
    "print(\"a is {} , b is {}\".format(a,b))"
   ]
  }
 ],
 "metadata": {
  "kernelspec": {
   "display_name": "Python 3 (ipykernel)",
   "language": "python",
   "name": "python3"
  },
  "language_info": {
   "codemirror_mode": {
    "name": "ipython",
    "version": 3
   },
   "file_extension": ".py",
   "mimetype": "text/x-python",
   "name": "python",
   "nbconvert_exporter": "python",
   "pygments_lexer": "ipython3",
   "version": "3.9.7"
  }
 },
 "nbformat": 4,
 "nbformat_minor": 5
}
